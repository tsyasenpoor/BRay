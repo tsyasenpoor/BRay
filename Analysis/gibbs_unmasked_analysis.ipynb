{
 "cells": [
  {
   "cell_type": "code",
   "execution_count": 1,
   "metadata": {},
   "outputs": [],
   "source": [
    "import json\n",
    "import os\n",
    "import pandas as pd\n",
    "import matplotlib.pyplot as plt\n",
    "import seaborn as sns\n",
    "import numpy as np\n",
    "import pickle\n",
    "from sklearn.metrics import ConfusionMatrixDisplay\n",
    "import gzip\n",
    "from sklearn.metrics import confusion_matrix, classification_report, roc_auc_score, roc_curve, auc, precision_recall_curve\n",
    "from scipy.stats import pearsonr, spearmanr\n",
    "import sys"
   ]
  },
  {
   "cell_type": "code",
   "execution_count": 2,
   "metadata": {},
   "outputs": [],
   "source": [
    "def load_experiment_data(instance_path):\n",
    "    dfs = {\n",
    "        \"pathways\": None,\n",
    "        \"statistics\": None,\n",
    "        \"train_stats\": None,\n",
    "        \"test_stats\": None, \n",
    "        \"val_stats\": None\n",
    "    }\n",
    "\n",
    "    if not os.path.isdir(instance_path):\n",
    "        print(f\"Error: Directory not found at {instance_path}\")\n",
    "        return tuple(dfs.values())\n",
    "\n",
    "    for filename in os.listdir(instance_path):\n",
    "        file_path = os.path.join(instance_path, filename)\n",
    "        \n",
    "        # Skip if not a file\n",
    "        if not os.path.isfile(file_path):\n",
    "            continue\n",
    "\n",
    "        try:\n",
    "            if 'analysis' in filename and filename.endswith('.json.gz'):\n",
    "                print(f\"Attempting to load {filename} (analysis JSON)...\")\n",
    "                with gzip.open(file_path, 'rt', encoding='utf-8') as f:\n",
    "                    data = json.load(f)\n",
    "                dfs['pathways'] = pd.DataFrame(data) \n",
    "                print(f\"Successfully created DataFrame for {filename}\")\n",
    "            elif 'results' in filename and filename.endswith('.json.gz'):\n",
    "                with gzip.open(file_path, 'rt', encoding='utf-8') as f:\n",
    "                    data = json.load(f)\n",
    "                if isinstance(data, dict):\n",
    "                    dfs['statistics'] = pd.DataFrame([data])\n",
    "                elif isinstance(data, list): \n",
    "                    dfs['statistics'] = pd.DataFrame(data)\n",
    "                else:\n",
    "                    print(f\"Warning: statistics file {filename} has an unexpected main data type: {type(data)}. Could not convert to DataFrame.\")\n",
    "            elif 'train' in filename and filename.endswith('.csv.gz'):\n",
    "                dfs['train_stats'] = pd.read_csv(file_path, compression='gzip')\n",
    "            elif 'test' in filename and filename.endswith('.csv.gz'):\n",
    "                dfs['test_stats'] = pd.read_csv(file_path, compression='gzip')\n",
    "            elif 'val' in filename and filename.endswith('.csv.gz'):\n",
    "                dfs['val_stats'] = pd.read_csv(file_path, compression='gzip')\n",
    "        except Exception as e:\n",
    "            print(f\"Error processing file {filename}: {e}\")\n",
    "    return dfs['pathways'], dfs['statistics'], dfs['train_stats'], dfs['test_stats'], dfs['val_stats']"
   ]
  },
  {
   "cell_type": "code",
   "execution_count": 3,
   "metadata": {},
   "outputs": [],
   "source": [
    "def analyze_statistics(statistics_df):\n",
    "    row_data = statistics_df.iloc[0]\n",
    "    train_metrics=row_data['train_metrics']\n",
    "    test_metrics=row_data['test_metrics']\n",
    "    val_metrics=row_data['val_metrics']\n",
    "\n",
    "    metrics_list = [\n",
    "        {'set': 'train', 'metrics': train_metrics},\n",
    "        {'set': 'validation', 'metrics': val_metrics},\n",
    "        {'set': 'test', 'metrics': test_metrics}\n",
    "    ]\n",
    "    \n",
    "    metrics_df = pd.DataFrame([\n",
    "        {'Set': 'Train', **train_metrics},\n",
    "        {'Set': 'Validation', **val_metrics},\n",
    "        {'Set': 'Test', **test_metrics}\n",
    "    ])\n",
    "\n",
    "    print(\"Metrics Summary Table:\")\n",
    "    print(\"=\" * 80)\n",
    "    print(metrics_df.to_string(index=False, float_format='%.4f'))\n",
    "    print(\"=\" * 80)\n",
    "\n",
    "    print(f\"\\nAvailable metrics: {list(train_metrics.keys())}\")\n",
    "    \n",
    "    return metrics_list, metrics_df"
   ]
  },
  {
   "cell_type": "code",
   "execution_count": null,
   "metadata": {},
   "outputs": [],
   "source": [
    "combined_path=\"/labs/Aguiar/SSPA_BRAY/BRay/GibbsResults/unmasked/d\"\n",
    "\n",
    "runs_accuracy = [] \n",
    "\n",
    "# Loop through each folder in the combined_path directory\n",
    "for folder in os.listdir(combined_path):\n",
    "    folder_path = os.path.join(combined_path, folder)\n",
    "    if os.path.isdir(folder_path):\n",
    "        # Process files within the folder using the already defined function\n",
    "        _, statistics_df, _, _, _ = load_experiment_data(folder_path)\n",
    "        if statistics_df is not None:\n",
    "            # Analyze the statistics dataframe to get metric summaries\n",
    "            _, metrics_df = analyze_statistics(statistics_df)\n",
    "            # Check if accuracy is one of the available metrics\n",
    "            if 'accuracy' in metrics_df.columns:\n",
    "                for _, row in metrics_df.iterrows():\n",
    "                    runs_accuracy.append({\n",
    "                        'Run': folder,\n",
    "                        'Set': row['Set'],\n",
    "                        'Accuracy': row['accuracy']\n",
    "                    })\n",
    "            else:\n",
    "                print(f\"Run {folder} does not report an accuracy metric.\")\n",
    "        else:\n",
    "            print(f\"Run {folder} did not have statistics data available.\")\n",
    "\n",
    "# Create a combined dataframe with the accuracy for all runs\n",
    "df_accuracy = pd.DataFrame(runs_accuracy)\n",
    "print(\"\\nAggregated Accuracy Table:\")\n",
    "print(df_accuracy.to_string(index=False))"
   ]
  },
  {
   "cell_type": "code",
   "execution_count": null,
   "metadata": {},
   "outputs": [
    {
     "name": "stdout",
     "output_type": "stream",
     "text": [
      "Validation Accuracy Rankings (Highest to Lowest):\n",
      "============================================================\n",
      "            Run        Set  Accuracy\n",
      "20250623_071954 Validation    0.8025\n",
      "20250622_233738 Validation    0.7625\n",
      "20250623_053756 Validation    0.7475\n",
      "20250623_035329 Validation    0.2375\n",
      "20250623_014741 Validation    0.2275\n",
      "20250623_093459 Validation    0.2250\n",
      "\n",
      "Best performing run: 20250623_071954\n",
      "Highest validation accuracy: 0.8025\n",
      "\n",
      "Complete metrics for best run (20250623_071954):\n",
      "            Run        Set  Accuracy\n",
      "20250623_071954      Train   0.76045\n",
      "20250623_071954 Validation   0.80250\n",
      "20250623_071954       Test   0.80000\n"
     ]
    }
   ],
   "source": [
    "# Sort df_accuracy by validation set accuracy in descending order\n",
    "df_accuracy_sorted = df_accuracy[df_accuracy['Set'] == 'Validation'].sort_values('Accuracy', ascending=False)\n",
    "\n",
    "print(\"Validation Accuracy Rankings (Highest to Lowest):\")\n",
    "print(\"=\" * 60)\n",
    "print(df_accuracy_sorted.to_string(index=False))\n",
    "\n",
    "# Find the run with highest validation accuracy\n",
    "best_run = df_accuracy_sorted.iloc[0]['Run']\n",
    "best_val_accuracy = df_accuracy_sorted.iloc[0]['Accuracy']\n",
    "\n",
    "print(f\"\\nBest performing run: {best_run}\")\n",
    "print(f\"Highest validation accuracy: {best_val_accuracy:.4f}\")\n",
    "\n",
    "# Show all metrics for the best run\n",
    "best_run_metrics = df_accuracy[df_accuracy['Run'] == best_run]\n",
    "print(f\"\\nComplete metrics for best run ({best_run}):\")\n",
    "print(best_run_metrics.to_string(index=False))"
   ]
  },
  {
   "cell_type": "code",
   "execution_count": 4,
   "metadata": {},
   "outputs": [],
   "source": [
    "best_exp = \"/labs/Aguiar/SSPA_BRAY/BRay/GibbsResults/unmasked/d/20250623_071954\"\n"
   ]
  },
  {
   "cell_type": "code",
   "execution_count": 5,
   "metadata": {},
   "outputs": [],
   "source": [
    "best_pathways, best_statistics, best_train_stats, best_test_stats, best_val_stats = load_experiment_data(best_exp)"
   ]
  },
  {
   "cell_type": "code",
   "execution_count": null,
   "metadata": {},
   "outputs": [],
   "source": [
    "best_train_stats"
   ]
  },
  {
   "cell_type": "code",
   "execution_count": 6,
   "metadata": {},
   "outputs": [
    {
     "data": {
      "application/vnd.plotly.v1+json": {
       "config": {
        "plotlyServerURL": "https://plot.ly"
       },
       "data": [
        {
         "line": {
          "width": 2
         },
         "mode": "lines",
         "name": "Train (AUC = 0.624)",
         "type": "scatter",
         "x": {
          "bdata": "AAAAAAAAAAAMHf0vohdXP09k/LuK3Ww/ydX9o7lRcT+twPx1lvp5P/AH/AF/wH8/mqf9xjPDgj9qef3prTSEP2p5/emtNIQ/rcD8dZb6iT9+kvyYEGyLP8nV/aO5UZE/sb59tXYKkj8jNH0e5V6WP63A/HWW+pk/N018zUeWnT9V4T0bW/WgP7G+fbV2CqI/ann96a00pD/HVj2EyUmlPztL/QwopqU/aPo8yr0sqD8KnjwQsg+rP8NYvETpOa0/G+fd1ivHsD9Ilh2UwU2zPztL/QwoprU/F+lcl0u3uD+WqXyHU7O6P4leXAC6C70/ziQcrJLZvj/D703w5IHAP3Lebb1yDME/X62dggSVwj/Zhw2/N8HDP8dWPYTJScU/QDGtwPx1xj8uAN2Fjv7HP3PGnDFnzMk/fpL8mBBsyz8IH3zwwQfPPxj0BX1BX9A/V9QVdUVd0T96t/XKMUTSP0iWHZTBTdM/pHNdLt1i1D8eTs1qEI/VPyM0fR7lXtY/nQ7tWhiL1z9r7RQkqJTYP6rNJBysktk/6q00FLCQ2j+4jFzdP5rbPzJnzBlzxtw/OkBUJzL+3T/rIUxOqvDeP3n96a00FOA/Rek5Hdq14D9y3m29cgzhP1rH7c4vxeE/CLYNnL1P4j/+o7lREeDiPx6UwU0TX+M/S4n17au14z+/fbV2ChLkP5duMYpGi+Q/8ViZync45T/0S3EkYqDlP9lBGdw08eU/QDGtwPx15j/vH82NigDnP8cQSaHGeec/BP6AP+AP6D9O8OSBkH3oPwnkMPO03+g/qNpMwsEq6T+40lDAQmrpPznMPO03nuk/g76gL+gL6j9MtxhFo0XqP+qtNBSwkOo/iKRQ47zb6j/9mBBsGzjrP+KOuCPuiOs/q4cwOanC6z/YfGTZQRnsP+h0aNfCWOw/k3CwSmZ77D+jaLRI57rsP5ZjiKRQ4+w/pluMotEi7T/TUMBCanntP3FH3BF3xO0/q0E8Vqby7T8QPvjggw/uP7s5QFQnMu4/rjQUsJBa7j8SMdA6bnfuPy8uAN2Fju4/2ylIUCmx7j8/JgTbBs7uPxUkqJRY3+4/eSBkHzb87j+zGsRjZSrvPxgXgO5CR+8/phWYv85S7z8KElRKrG/vP1IR4DJyde8/4A/4A/6A7z9vDhDViYzvP7YNnL1Pku8/RQy0jtud7z+MC0B3oaPvPxoKWEgtr+8/NweI6kTG7z/GBaC70NHvPw0FLKSW1+8/DQUspJbX7z+cA0R1IuPvPyoCXEau7u8/AAAAAAAA8D8=",
          "dtype": "f8"
         },
         "y": {
          "bdata": "AAAAAAAAAAAAAAAAAAAAAAAAAAAAAAAAAAAAAAAAAAAAAAAAAAAAALJ3kX6dU2I/sneRfp1TYj+yd5F+nVNiP7J3kX6dU3I/sneRfp1Tcj+yd5F+nVOCP7J3kX6dU4I/n9U13oTohj+yd5F+nVOSP6imYy4RnpQ/gWKs7d/HnT+8SL/OKQmgP7J3kX6dU6I/LY96Vtd4oz8QHPFlMliqP4sz2j1sfas/N2CopmMusT/rGm9CdAu0P1xhKsohe7c/zqflUc/quj/E1rcBQzW9P5uOuUR4UsA/9euckgDBwT/rGm9CdAvEP2YyWBquMMU/n9U13oToxj90SgIER3zJPwZLwxWmosw/HjSbT8ujzj+bjrlEeFLQPwXJn1dZnNE/opqOuUR40j9OSYDgiC/TP7mDZvNpedQ/ZjJYGq4w1T87pyRAcMTXP3RKAgRHfNk/EBzxZTJY2j844stksDTcP3GFqSiH7N0/LhGeFCR/3j+IboFirO3fP/FlMlgaruA/v84pCRAc4T9sfRswVNPhPzrmEuFJQeI/17cBQzUd4z+EZvNpedTjP7mDZvNpeeQ/ZjJYGq4w5T80m0/Lo57lP4tyyN5F+uU/4UlB8udV5j+vsjij3cPmP9TyqGd1jec/Ksohexfp5z/5MhksDVfoPz4tj3pW1+g/HXOJ8KQg6T/8uINm82npP1KQ/HmVxek//z7uoNl86j81XGEqyiHrP4sz2j1sfes/4gpTUQ7Z6z844stksDTsPygFyZ9XWew/BkvDFaai7D/2bcBQTcfsP23/Pu6g2ew/TEU5ZO8i7T8K0S1QjLXtP+kWKMba/u0/UMujntU17j/HXCI8KUjuPy4RnhQkf+4/HjSbT8uj7j+F6BYoxtruP/15lcUZ7e4/dAsUY23/7j9kLhGeFCTvP9u/jztoNu8/27+PO2g27z/bv487aDbvP9u/jztoNu8/27+PO2g27z/bv487aDbvP8vijHYPW+8/MpcITwqS7z8ylwhPCpLvP6ooh+xdpO8/IboFirG27z8hugWKsbbvPyG6BYqxtu8/mUuEJwXJ7z+ZS4QnBcnvP5lLhCcFye8/mUuEJwXJ7z+ZS4QnBcnvP5lLhCcFye8/mUuEJwXJ7z+ZS4QnBcnvPxHdAsVY2+8/Ed0CxVjb7z+IboFirO3vP4hugWKs7e8/iG6BYqzt7z+IboFirO3vP4hugWKs7e8/iG6BYqzt7z+IboFirO3vP4hugWKs7e8/AAAAAAAA8D8AAAAAAADwPwAAAAAAAPA/AAAAAAAA8D8=",
          "dtype": "f8"
         }
        },
        {
         "line": {
          "width": 2
         },
         "mode": "lines",
         "name": "Validation (AUC = 0.473)",
         "type": "scatter",
         "x": {
          "bdata": "AAAAAAAAAAD/wI4NL4VpP//Ajg0vhXk//8CODS+FeT+/ECtK4yODP78QK0rjI4M/3+jcK4lUpj//wI4NL4WpPw+tZ/6BHas/D61n/oEdqz+vJFJZkIuxP68kUlmQi7E/vxArSuMjsz+/ECtK4yOzP9dycLNfiLU/515JpLIgtz/v1LUc3Oy3P+/UtRzc7Lc//8CODS+FuT8HN/uFWFG6Pw+tZ/6BHbs/D61n/oEduz8vhRngJ06+Pz9x8tB65r8/o3OvJFJZwD+nruXgZr/AP68kUlmQi8E/x4aXwgzwwz/HhpfCDPDDP8vBzX4hVsQ/13Jws1+IxT/f6NwriVTGP+deSaSyIMc/90oilQW5yD//wI4NL4XJPwtyMUJtt8o/G14KM8BPzD8fmUDv1LXMPx+ZQO/Utcw/I9R2q+kbzT8j1Har6RvNPycPrWf+gc0/L4UZ4CdOzj8zwE+cPLTOPzf7hVhRGs8/Oza8FGaAzz87NrwUZoDPP6NzryRSWdA/KcwAP3Hy0D+r6RudeyXRPzFCbbeavtE/NX2jc68k0j+3mr7RuVfSP78QK0rjI9M/QS5GqO1W0z9FaXxkAr3TP8eGl8IM8NM/x4aXwgzw0z/P/AM7NrzUP1EaH5lA79Q/WZCLEWq71T/braZvdO7VP9/o3CuJVNY/65l/YMeG1z/v1LUc3OzXP3UtBzf7hdg/eWg98w/s2D99o3OvJFLZP//Ajg0vhdk/Bzf7hVhR2j8LcjFCbbfaP42PTKB36to/jY9MoHfq2j8PrWf+gR3bP5HKglyMUNs/kcqCXIxQ2z8T6J26loPbP5UFuRihtts/nXslkcqC3D8fmUDv1LXcP6G2W03f6Nw/I9R2q+kb3T8rSuMjE+jdPy+FGeAnTt4/saI0PjKB3j+xojQ+MoHeP7XdavpG594/N/uFWFEa3z87NrwUZoDfPzs2vBRmgN8/YMeGl8IM4D9gx4aXwgzgPyFWlMZHJuA/4uSh9cw/4D9kAr1T13LgP6eu5eBmv+A/aD3zD+zY4D8pzAA/cfLgPynMAD9x8uA/LQc3+4VY4T+vJFJZkIvhP3CzX4gVpeE/cLNfiBWl4T9ws1+IFaXhPzFCbbeavuE/dO6VRCoL4j907pVEKgviP/YLsaI0PuI/ObjZL8SK4j/6RudeSaTiP7vV9I3OveI/vxArSuMj4z+Anzh5aD3jP4TabjV9o+M/RWl8ZAK94z/HhpfCDPDjP8eGl8IM8OM/SaSyIBcj5D+MUNutpm/kP5CLEWq71eQ/EqksyMUI5T8W5GKE2m7lP5gBfuLkoeU/WZCLEWq75T9ZkIsRarvlPxofmUDv1OU/nDy0nvkH5j/f6NwriVTmP6B36loObuY/IpUFuRih5j/nXkmksiDnP2l8ZAK9U+c/KgtyMUJt5z8qC3IxQm3nP223mr7Ruec/cfLQeuYf6D/zD+zY8FLoP3UtBzf7heg/dS0HN/uF6D+42S/EitLoP7wUZoCfOOk/PjKB3qlr6T//wI4NL4XpP8BPnDy0nuk/A/zEyUPr6T/EitL4yATqP0ao7VbTN+o/Bzf7hVhR6j8HN/uFWFHqP8jFCLXdauo/iVQW5GKE6j+JVBbkYoTqP8wAP3Hy0Oo/D61n/oEd6z+RyoJcjFDrP5HKglyMUOs/UlmQixFq6z/UdqvpG53rP5UFuRihtus/lQW5GKG26z8XI9R2q+nrPxcj1Har6es/2LHhpTAD7D9az/wDOzbsPxteCjPAT+w/G14KM8BP7D/c7BdiRWnsP517JZHKguw/nXslkcqC7D8fmUDv1LXsP6G2W03f6Ow/I9R2q+kb7T8j1Har6RvtP6XxkQn0Tu0/pfGRCfRO7T8nD61n/oHtP2q71fSNzu0/K0rjIxPo7T/s2PBSmAHuP+zY8FKYAe4/8BMnD61n7j+xojQ+MoHuP7XdavpG5+4/dmx4KcwA7z92bHgpzADvPwAAAAAAAPA/",
          "dtype": "f8"
         },
         "y": {
          "bdata": "AAAAAAAAAAAAAAAAAAAAAAAAAAAAAAAA2TMQlY7siT/ZMxCVjuyJP+MmzO9qcaM/4ybM72pxoz/jJszvanGjP+MmzO9qcaM/2TMQlY7sqT/ZMxCVjuypP2ggKh3ZM7A/aCAqHdkzsD9eLW7C/K62P14tbsL8rrY/Xi1uwvyutj9eLW7C/K62P9kzEJWO7Lk/2TMQlY7suT9UOrJnICq9P1Q6smcgKr0/aCAqHdkzwD9oICod2TPAP2ggKh3ZM8A/aCAqHdkzwD+lI3sGotLBP6Ujewai0sE/pSN7BqLSwT/jJszvanHDP+MmzO9qccM/4ybM72pxwz/jJszvanHDP+MmzO9qccM/4ybM72pxwz/jJszvanHDP+MmzO9qccM/4ybM72pxwz8gKh3ZMxDFP14tbsL8rsY/Xi1uwvyuxj+cML+rxU3IP5wwv6vFTcg/FzdhfleLyz8XN2F+V4vLP1Q6smcgKs0/VDqyZyAqzT9oICod2TPQP2ggKh3ZM9A/aCAqHdkz0D9oICod2TPQP2ggKh3ZM9A/aCAqHdkz0D8GotKRPQPRPwai0pE9A9E/BqLSkT0D0T8GotKRPQPRP6Ujewai0tE/RKUjewai0j9EpSN7BqLSP0SlI3sGotI/RKUjewai0j9EpSN7BqLSP0SlI3sGotI/RKUjewai0j9EpSN7BqLSP0SlI3sGotI/RKUjewai0j/jJszvanHTP4KodGTPQNQ/ICod2TMQ1T8gKh3ZMxDVPyAqHdkzENU/v6vFTZjf1T9eLW7C/K7WP14tbsL8rtY//a4WN2F+1z/9rhY3YX7XP5wwv6vFTdg/nDC/q8VN2D+cML+rxU3YPzqyZyAqHdk/OrJnICod2T/ZMxCVjuzZP9kzEJWO7Nk/eLW4CfO72j8XN2F+V4vbPxc3YX5Xi9s/tbgJ87ta3D+1uAnzu1rcP1Q6smcgKt0/VDqyZyAq3T8xv6vFTZjfPzdhfleLm+A/N2F+V4ub4D83YX5Xi5vgPzdhfleLm+A/BqLSkT0D4T8GotKRPQPhP9biJszvauE/1uImzO9q4T/W4ibM72rhP9biJszvauE/dWTPQFQ64j9EpSN7BqLiP0SlI3sGouI/RKUjewai4j8T5ne1uAnjPxPmd7W4CeM/E+Z3tbgJ4z8T5ne1uAnjP+MmzO9qceM/4ybM72px4z/jJszvanHjP+MmzO9qceM/4ybM72px4z/jJszvanHjP7JnICod2eM/smcgKh3Z4z+yZyAqHdnjP7JnICod2eM/smcgKh3Z4z+yZyAqHdnjP7JnICod2eM/smcgKh3Z4z9R6ciegajkP1HpyJ6BqOQ/UenInoGo5D8gKh3ZMxDlP/BqcRPmd+U/8GpxE+Z35T/wanET5nflP/BqcRPmd+U/8GpxE+Z35T+/q8VNmN/lP7+rxU2Y3+U/v6vFTZjf5T+/q8VNmN/lP7+rxU2Y3+U/j+wZiEpH5j9eLW7C/K7mP14tbsL8ruY/Xi1uwvyu5j8tbsL8rhbnPy1uwvyuFuc/LW7C/K4W5z8tbsL8rhbnPy1uwvyuFuc//a4WN2F+5z/M72pxE+bnP5wwv6vFTeg/nDC/q8VN6D9rcRPmd7XoPzqyZyAqHek/OrJnICod6T86smcgKh3pP9kzEJWO7Ok/2TMQlY7s6T/ZMxCVjuzpP6l0ZM9AVOo/eLW4CfO76j94tbgJ87vqP0f2DESlI+s/R/YMRKUj6z/md7W4CfPrP+Z3tbgJ8+s/tbgJ87ta7D+1uAnzu1rsP4X5XS1uwuw/VDqyZyAq7T9UOrJnICrtP1Q6smcgKu0/VDqyZyAq7T8kewai0pHtPyR7BqLSke0/87ta3IT57T/zu1rchPntP/O7WtyE+e0/87ta3IT57T/C/K4WN2HuP5I9A1HpyO4/kj0DUenI7j9hfleLmzDvP2F+V4ubMO8/Mb+rxU2Y7z8AAAAAAADwPwAAAAAAAPA/",
          "dtype": "f8"
         }
        },
        {
         "line": {
          "width": 2
         },
         "mode": "lines",
         "name": "Test (AUC = 0.467)",
         "type": "scatter",
         "x": {
          "bdata": "AAAAAAAAAACamZmZmZlpP5qZmZmZmXk/mpmZmZmZeT9mZmZmZmamP5qZmZmZmak/zczMzMzMrD/NzMzMzMysP83MzMzMzLA/zczMzMzMsD+amZmZmZmxPzMzMzMzM7M/MzMzMzMzsz+amZmZmZm1P5qZmZmZmbU/ZmZmZmZmtj9mZmZmZma2PwAAAAAAALg/mpmZmZmZuT9mZmZmZma6P2ZmZmZmZro/AAAAAAAAvD/NzMzMzMy8P5qZmZmZmb0/MzMzMzMzvz/NzMzMzMzAP83MzMzMzMA/AAAAAAAAwj8AAAAAAADCPzMzMzMzM8M/AAAAAAAAxj9mZmZmZmbGPzMzMzMzM8c/ZmZmZmZmyD/NzMzMzMzIPwAAAAAAAMo/mpmZmZmZyz/NzMzMzMzMP83MzMzMzMw/mpmZmZmZzT9mZmZmZmbOP83MzMzMzM4/AAAAAAAA0D9mZmZmZmbQP83MzMzMzNA/AAAAAAAA0T9mZmZmZmbRP5qZmZmZmdE/mpmZmZmZ0T/NzMzMzMzRPzMzMzMzM9I/ZmZmZmZm0j9mZmZmZmbSP83MzMzMzNI/AAAAAAAA0z/NzMzMzMzTP2ZmZmZmZtQ/MzMzMzMz1T9mZmZmZmbVP2ZmZmZmZtU/mpmZmZmZ1T8AAAAAAADWP2ZmZmZmZtY/mpmZmZmZ1j/NzMzMzMzWPzMzMzMzM9c/ZmZmZmZm2D+amZmZmZnZPwAAAAAAANo/ZmZmZmZm2j/NzMzMzMzaPwAAAAAAANs/MzMzMzMz2z9mZmZmZmbbP2ZmZmZmZts/zczMzMzM2z+amZmZmZncP83MzMzMzNw/zczMzMzM3D8AAAAAAADdP2ZmZmZmZt0/ZmZmZmZm3T+amZmZmZndPwAAAAAAAN4/AAAAAAAA3j8zMzMzMzPeP2ZmZmZmZt4/ZmZmZmZm3j8zMzMzMzPfP5qZmZmZmd8/zczMzMzM3z/NzMzMzEzgP5qZmZmZmeA/ZmZmZmbm4D+amZmZmRnhPwAAAAAAgOE/MzMzMzOz4T8zMzMzMzPiPzMzMzMzM+I/AAAAAACA4j8zMzMzM7PiP2ZmZmZm5uI/AAAAAAAA4z8AAAAAAADjPzMzMzMzM+M/mpmZmZmZ4z+amZmZmZnjPwAAAAAAAOQ/mpmZmZkZ5D/NzMzMzEzkP2ZmZmZmZuQ/ZmZmZmbm5D+amZmZmRnlPzMzMzMzM+U/MzMzMzMz5T+amZmZmZnlPzMzMzMzM+Y/mpmZmZmZ5j+amZmZmZnmPzMzMzMzs+Y/ZmZmZmbm5j8AAAAAAADnPwAAAAAAAOc/mpmZmZkZ5z/NzMzMzEznP83MzMzMzOc/MzMzMzMz6D9mZmZmZmboPwAAAAAAgOg/MzMzMzOz6D/NzMzMzMzoP83MzMzMzOg/AAAAAAAA6T+amZmZmRnpPzMzMzMzM+k/mpmZmZmZ6T8AAAAAAADqPzMzMzMzM+o/MzMzMzMz6j9mZmZmZmbqP2ZmZmZmZuo/ZmZmZmZm6j+amZmZmZnqP83MzMzMzOo/zczMzMzM6j8AAAAAAADrPwAAAAAAAOs/mpmZmZkZ6z/NzMzMzEzrPwAAAAAAgOs/mpmZmZmZ6z+amZmZmZnrPzMzMzMzs+s/AAAAAAAA7D9mZmZmZmbsPwAAAAAAgOw/mpmZmZmZ7D/NzMzMzMzsP83MzMzMzOw/ZmZmZmbm7D9mZmZmZubsP5qZmZmZGe0/MzMzMzMz7T8zMzMzMzPtP83MzMzMTO0/mpmZmZmZ7T8zMzMzM7PtP83MzMzMzO0/zczMzMzM7T8AAAAAAADuPzMzMzMzM+4/MzMzMzMz7j9mZmZmZmbuPwAAAAAAgO4/AAAAAACA7j+amZmZmZnuPzMzMzMzs+4/ZmZmZmbm7j8AAAAAAADwPwAAAAAAAPA/",
          "dtype": "f8"
         },
         "y": {
          "bdata": "AAAAAAAAAAAAAAAAAAAAAAAAAAAAAAAAmpmZmZmZiT+amZmZmZmJP5qZmZmZmZk/mpmZmZmZmT8AAAAAAACwPwAAAAAAALA/MzMzMzMzsz9mZmZmZma2P2ZmZmZmZrY/mpmZmZmZuT+amZmZmZm5P83MzMzMzLw/zczMzMzMvD8AAAAAAADAPwAAAAAAAMA/AAAAAAAAwD8AAAAAAADAP5qZmZmZmcE/mpmZmZmZwT8zMzMzMzPDPzMzMzMzM8M/MzMzMzMzwz8zMzMzMzPDP83MzMzMzMQ/zczMzMzMxD9mZmZmZmbGP2ZmZmZmZsY/ZmZmZmZmxj8AAAAAAADIPwAAAAAAAMg/AAAAAAAAyD8AAAAAAADIPwAAAAAAAMg/AAAAAAAAyD8AAAAAAADIP5qZmZmZmck/mpmZmZmZyT+amZmZmZnJP5qZmZmZmck/mpmZmZmZyT8zMzMzMzPLPzMzMzMzM8s/zczMzMzMzD/NzMzMzMzMP83MzMzMzMw/ZmZmZmZmzj9mZmZmZmbOP2ZmZmZmZs4/ZmZmZmZmzj8AAAAAAADQPwAAAAAAANA/AAAAAAAA0D8AAAAAAADQPwAAAAAAANA/AAAAAAAA0D8AAAAAAADQP83MzMzMzNA/zczMzMzM0D/NzMzMzMzQP2ZmZmZmZtI/ZmZmZmZm0j8AAAAAAADUP83MzMzMzNQ/zczMzMzM1D/NzMzMzMzUP83MzMzMzNQ/zczMzMzM1D9mZmZmZmbWP2ZmZmZmZtY/MzMzMzMz1z8zMzMzMzPXPwAAAAAAANg/AAAAAAAA2D8AAAAAAADYP83MzMzMzNg/mpmZmZmZ2T+amZmZmZnZPzMzMzMzM9s/AAAAAAAA3D/NzMzMzMzcP83MzMzMzNw/mpmZmZmZ3T+amZmZmZndP2ZmZmZmZt4/MzMzMzMz3z8zMzMzMzPfPzMzMzMzM98/AAAAAAAA4D8AAAAAAADgP2ZmZmZmZuA/ZmZmZmZm4D9mZmZmZmbgPzMzMzMzM+E/MzMzMzMz4T8zMzMzMzPhP5qZmZmZmeE/mpmZmZmZ4T+amZmZmZnhP5qZmZmZmeE/mpmZmZmZ4T8AAAAAAADiPwAAAAAAAOI/ZmZmZmZm4j/NzMzMzMziP83MzMzMzOI/zczMzMzM4j/NzMzMzMziPzMzMzMzM+M/MzMzMzMz4z8zMzMzMzPjPzMzMzMzM+M/AAAAAAAA5D8AAAAAAADkPwAAAAAAAOQ/AAAAAAAA5D9mZmZmZmbkPzMzMzMzM+U/MzMzMzMz5T8zMzMzMzPlP5qZmZmZmeU/mpmZmZmZ5T8AAAAAAADmPwAAAAAAAOY/AAAAAAAA5j8AAAAAAADmPwAAAAAAAOY/AAAAAAAA5j8AAAAAAADmP2ZmZmZmZuY/ZmZmZmZm5j9mZmZmZmbmP83MzMzMzOY/zczMzMzM5j/NzMzMzMzmP83MzMzMzOY/MzMzMzMz5z8zMzMzMzPnP5qZmZmZmec/ZmZmZmZm6D9mZmZmZmboP2ZmZmZmZug/zczMzMzM6D/NzMzMzMzoPzMzMzMzM+k/mpmZmZmZ6T+amZmZmZnpP5qZmZmZmek/mpmZmZmZ6T8AAAAAAADqPwAAAAAAAOo/ZmZmZmZm6j9mZmZmZmbqP83MzMzMzOo/zczMzMzM6j/NzMzMzMzqPzMzMzMzM+s/MzMzMzMz6z+amZmZmZnrPwAAAAAAAOw/AAAAAAAA7D9mZmZmZmbsP83MzMzMzOw/zczMzMzM7D8zMzMzMzPtPzMzMzMzM+0/mpmZmZmZ7T+amZmZmZntP5qZmZmZme0/AAAAAAAA7j8AAAAAAADuP2ZmZmZmZu4/MzMzMzMz7z8zMzMzMzPvP5qZmZmZme8/mpmZmZmZ7z+amZmZmZnvPwAAAAAAAPA/",
          "dtype": "f8"
         }
        },
        {
         "line": {
          "color": "gray",
          "dash": "dash"
         },
         "mode": "lines",
         "name": "Random Classifier",
         "type": "scatter",
         "x": [
          0,
          1
         ],
         "y": [
          0,
          1
         ]
        }
       ],
       "layout": {
        "height": 500,
        "template": {
         "data": {
          "bar": [
           {
            "error_x": {
             "color": "#2a3f5f"
            },
            "error_y": {
             "color": "#2a3f5f"
            },
            "marker": {
             "line": {
              "color": "#E5ECF6",
              "width": 0.5
             },
             "pattern": {
              "fillmode": "overlay",
              "size": 10,
              "solidity": 0.2
             }
            },
            "type": "bar"
           }
          ],
          "barpolar": [
           {
            "marker": {
             "line": {
              "color": "#E5ECF6",
              "width": 0.5
             },
             "pattern": {
              "fillmode": "overlay",
              "size": 10,
              "solidity": 0.2
             }
            },
            "type": "barpolar"
           }
          ],
          "carpet": [
           {
            "aaxis": {
             "endlinecolor": "#2a3f5f",
             "gridcolor": "white",
             "linecolor": "white",
             "minorgridcolor": "white",
             "startlinecolor": "#2a3f5f"
            },
            "baxis": {
             "endlinecolor": "#2a3f5f",
             "gridcolor": "white",
             "linecolor": "white",
             "minorgridcolor": "white",
             "startlinecolor": "#2a3f5f"
            },
            "type": "carpet"
           }
          ],
          "choropleth": [
           {
            "colorbar": {
             "outlinewidth": 0,
             "ticks": ""
            },
            "type": "choropleth"
           }
          ],
          "contour": [
           {
            "colorbar": {
             "outlinewidth": 0,
             "ticks": ""
            },
            "colorscale": [
             [
              0,
              "#0d0887"
             ],
             [
              0.1111111111111111,
              "#46039f"
             ],
             [
              0.2222222222222222,
              "#7201a8"
             ],
             [
              0.3333333333333333,
              "#9c179e"
             ],
             [
              0.4444444444444444,
              "#bd3786"
             ],
             [
              0.5555555555555556,
              "#d8576b"
             ],
             [
              0.6666666666666666,
              "#ed7953"
             ],
             [
              0.7777777777777778,
              "#fb9f3a"
             ],
             [
              0.8888888888888888,
              "#fdca26"
             ],
             [
              1,
              "#f0f921"
             ]
            ],
            "type": "contour"
           }
          ],
          "contourcarpet": [
           {
            "colorbar": {
             "outlinewidth": 0,
             "ticks": ""
            },
            "type": "contourcarpet"
           }
          ],
          "heatmap": [
           {
            "colorbar": {
             "outlinewidth": 0,
             "ticks": ""
            },
            "colorscale": [
             [
              0,
              "#0d0887"
             ],
             [
              0.1111111111111111,
              "#46039f"
             ],
             [
              0.2222222222222222,
              "#7201a8"
             ],
             [
              0.3333333333333333,
              "#9c179e"
             ],
             [
              0.4444444444444444,
              "#bd3786"
             ],
             [
              0.5555555555555556,
              "#d8576b"
             ],
             [
              0.6666666666666666,
              "#ed7953"
             ],
             [
              0.7777777777777778,
              "#fb9f3a"
             ],
             [
              0.8888888888888888,
              "#fdca26"
             ],
             [
              1,
              "#f0f921"
             ]
            ],
            "type": "heatmap"
           }
          ],
          "histogram": [
           {
            "marker": {
             "pattern": {
              "fillmode": "overlay",
              "size": 10,
              "solidity": 0.2
             }
            },
            "type": "histogram"
           }
          ],
          "histogram2d": [
           {
            "colorbar": {
             "outlinewidth": 0,
             "ticks": ""
            },
            "colorscale": [
             [
              0,
              "#0d0887"
             ],
             [
              0.1111111111111111,
              "#46039f"
             ],
             [
              0.2222222222222222,
              "#7201a8"
             ],
             [
              0.3333333333333333,
              "#9c179e"
             ],
             [
              0.4444444444444444,
              "#bd3786"
             ],
             [
              0.5555555555555556,
              "#d8576b"
             ],
             [
              0.6666666666666666,
              "#ed7953"
             ],
             [
              0.7777777777777778,
              "#fb9f3a"
             ],
             [
              0.8888888888888888,
              "#fdca26"
             ],
             [
              1,
              "#f0f921"
             ]
            ],
            "type": "histogram2d"
           }
          ],
          "histogram2dcontour": [
           {
            "colorbar": {
             "outlinewidth": 0,
             "ticks": ""
            },
            "colorscale": [
             [
              0,
              "#0d0887"
             ],
             [
              0.1111111111111111,
              "#46039f"
             ],
             [
              0.2222222222222222,
              "#7201a8"
             ],
             [
              0.3333333333333333,
              "#9c179e"
             ],
             [
              0.4444444444444444,
              "#bd3786"
             ],
             [
              0.5555555555555556,
              "#d8576b"
             ],
             [
              0.6666666666666666,
              "#ed7953"
             ],
             [
              0.7777777777777778,
              "#fb9f3a"
             ],
             [
              0.8888888888888888,
              "#fdca26"
             ],
             [
              1,
              "#f0f921"
             ]
            ],
            "type": "histogram2dcontour"
           }
          ],
          "mesh3d": [
           {
            "colorbar": {
             "outlinewidth": 0,
             "ticks": ""
            },
            "type": "mesh3d"
           }
          ],
          "parcoords": [
           {
            "line": {
             "colorbar": {
              "outlinewidth": 0,
              "ticks": ""
             }
            },
            "type": "parcoords"
           }
          ],
          "pie": [
           {
            "automargin": true,
            "type": "pie"
           }
          ],
          "scatter": [
           {
            "fillpattern": {
             "fillmode": "overlay",
             "size": 10,
             "solidity": 0.2
            },
            "type": "scatter"
           }
          ],
          "scatter3d": [
           {
            "line": {
             "colorbar": {
              "outlinewidth": 0,
              "ticks": ""
             }
            },
            "marker": {
             "colorbar": {
              "outlinewidth": 0,
              "ticks": ""
             }
            },
            "type": "scatter3d"
           }
          ],
          "scattercarpet": [
           {
            "marker": {
             "colorbar": {
              "outlinewidth": 0,
              "ticks": ""
             }
            },
            "type": "scattercarpet"
           }
          ],
          "scattergeo": [
           {
            "marker": {
             "colorbar": {
              "outlinewidth": 0,
              "ticks": ""
             }
            },
            "type": "scattergeo"
           }
          ],
          "scattergl": [
           {
            "marker": {
             "colorbar": {
              "outlinewidth": 0,
              "ticks": ""
             }
            },
            "type": "scattergl"
           }
          ],
          "scattermap": [
           {
            "marker": {
             "colorbar": {
              "outlinewidth": 0,
              "ticks": ""
             }
            },
            "type": "scattermap"
           }
          ],
          "scattermapbox": [
           {
            "marker": {
             "colorbar": {
              "outlinewidth": 0,
              "ticks": ""
             }
            },
            "type": "scattermapbox"
           }
          ],
          "scatterpolar": [
           {
            "marker": {
             "colorbar": {
              "outlinewidth": 0,
              "ticks": ""
             }
            },
            "type": "scatterpolar"
           }
          ],
          "scatterpolargl": [
           {
            "marker": {
             "colorbar": {
              "outlinewidth": 0,
              "ticks": ""
             }
            },
            "type": "scatterpolargl"
           }
          ],
          "scatterternary": [
           {
            "marker": {
             "colorbar": {
              "outlinewidth": 0,
              "ticks": ""
             }
            },
            "type": "scatterternary"
           }
          ],
          "surface": [
           {
            "colorbar": {
             "outlinewidth": 0,
             "ticks": ""
            },
            "colorscale": [
             [
              0,
              "#0d0887"
             ],
             [
              0.1111111111111111,
              "#46039f"
             ],
             [
              0.2222222222222222,
              "#7201a8"
             ],
             [
              0.3333333333333333,
              "#9c179e"
             ],
             [
              0.4444444444444444,
              "#bd3786"
             ],
             [
              0.5555555555555556,
              "#d8576b"
             ],
             [
              0.6666666666666666,
              "#ed7953"
             ],
             [
              0.7777777777777778,
              "#fb9f3a"
             ],
             [
              0.8888888888888888,
              "#fdca26"
             ],
             [
              1,
              "#f0f921"
             ]
            ],
            "type": "surface"
           }
          ],
          "table": [
           {
            "cells": {
             "fill": {
              "color": "#EBF0F8"
             },
             "line": {
              "color": "white"
             }
            },
            "header": {
             "fill": {
              "color": "#C8D4E3"
             },
             "line": {
              "color": "white"
             }
            },
            "type": "table"
           }
          ]
         },
         "layout": {
          "annotationdefaults": {
           "arrowcolor": "#2a3f5f",
           "arrowhead": 0,
           "arrowwidth": 1
          },
          "autotypenumbers": "strict",
          "coloraxis": {
           "colorbar": {
            "outlinewidth": 0,
            "ticks": ""
           }
          },
          "colorscale": {
           "diverging": [
            [
             0,
             "#8e0152"
            ],
            [
             0.1,
             "#c51b7d"
            ],
            [
             0.2,
             "#de77ae"
            ],
            [
             0.3,
             "#f1b6da"
            ],
            [
             0.4,
             "#fde0ef"
            ],
            [
             0.5,
             "#f7f7f7"
            ],
            [
             0.6,
             "#e6f5d0"
            ],
            [
             0.7,
             "#b8e186"
            ],
            [
             0.8,
             "#7fbc41"
            ],
            [
             0.9,
             "#4d9221"
            ],
            [
             1,
             "#276419"
            ]
           ],
           "sequential": [
            [
             0,
             "#0d0887"
            ],
            [
             0.1111111111111111,
             "#46039f"
            ],
            [
             0.2222222222222222,
             "#7201a8"
            ],
            [
             0.3333333333333333,
             "#9c179e"
            ],
            [
             0.4444444444444444,
             "#bd3786"
            ],
            [
             0.5555555555555556,
             "#d8576b"
            ],
            [
             0.6666666666666666,
             "#ed7953"
            ],
            [
             0.7777777777777778,
             "#fb9f3a"
            ],
            [
             0.8888888888888888,
             "#fdca26"
            ],
            [
             1,
             "#f0f921"
            ]
           ],
           "sequentialminus": [
            [
             0,
             "#0d0887"
            ],
            [
             0.1111111111111111,
             "#46039f"
            ],
            [
             0.2222222222222222,
             "#7201a8"
            ],
            [
             0.3333333333333333,
             "#9c179e"
            ],
            [
             0.4444444444444444,
             "#bd3786"
            ],
            [
             0.5555555555555556,
             "#d8576b"
            ],
            [
             0.6666666666666666,
             "#ed7953"
            ],
            [
             0.7777777777777778,
             "#fb9f3a"
            ],
            [
             0.8888888888888888,
             "#fdca26"
            ],
            [
             1,
             "#f0f921"
            ]
           ]
          },
          "colorway": [
           "#636efa",
           "#EF553B",
           "#00cc96",
           "#ab63fa",
           "#FFA15A",
           "#19d3f3",
           "#FF6692",
           "#B6E880",
           "#FF97FF",
           "#FECB52"
          ],
          "font": {
           "color": "#2a3f5f"
          },
          "geo": {
           "bgcolor": "white",
           "lakecolor": "white",
           "landcolor": "#E5ECF6",
           "showlakes": true,
           "showland": true,
           "subunitcolor": "white"
          },
          "hoverlabel": {
           "align": "left"
          },
          "hovermode": "closest",
          "mapbox": {
           "style": "light"
          },
          "paper_bgcolor": "white",
          "plot_bgcolor": "#E5ECF6",
          "polar": {
           "angularaxis": {
            "gridcolor": "white",
            "linecolor": "white",
            "ticks": ""
           },
           "bgcolor": "#E5ECF6",
           "radialaxis": {
            "gridcolor": "white",
            "linecolor": "white",
            "ticks": ""
           }
          },
          "scene": {
           "xaxis": {
            "backgroundcolor": "#E5ECF6",
            "gridcolor": "white",
            "gridwidth": 2,
            "linecolor": "white",
            "showbackground": true,
            "ticks": "",
            "zerolinecolor": "white"
           },
           "yaxis": {
            "backgroundcolor": "#E5ECF6",
            "gridcolor": "white",
            "gridwidth": 2,
            "linecolor": "white",
            "showbackground": true,
            "ticks": "",
            "zerolinecolor": "white"
           },
           "zaxis": {
            "backgroundcolor": "#E5ECF6",
            "gridcolor": "white",
            "gridwidth": 2,
            "linecolor": "white",
            "showbackground": true,
            "ticks": "",
            "zerolinecolor": "white"
           }
          },
          "shapedefaults": {
           "line": {
            "color": "#2a3f5f"
           }
          },
          "ternary": {
           "aaxis": {
            "gridcolor": "white",
            "linecolor": "white",
            "ticks": ""
           },
           "baxis": {
            "gridcolor": "white",
            "linecolor": "white",
            "ticks": ""
           },
           "bgcolor": "#E5ECF6",
           "caxis": {
            "gridcolor": "white",
            "linecolor": "white",
            "ticks": ""
           }
          },
          "title": {
           "x": 0.05
          },
          "xaxis": {
           "automargin": true,
           "gridcolor": "white",
           "linecolor": "white",
           "ticks": "",
           "title": {
            "standoff": 15
           },
           "zerolinecolor": "white",
           "zerolinewidth": 2
          },
          "yaxis": {
           "automargin": true,
           "gridcolor": "white",
           "linecolor": "white",
           "ticks": "",
           "title": {
            "standoff": 15
           },
           "zerolinecolor": "white",
           "zerolinewidth": 2
          }
         }
        },
        "title": {
         "text": "ROC Curves for All Datasets"
        },
        "width": 600,
        "xaxis": {
         "title": {
          "text": "False Positive Rate"
         }
        },
        "yaxis": {
         "title": {
          "text": "True Positive Rate"
         }
        }
       }
      }
     },
     "metadata": {},
     "output_type": "display_data"
    },
    {
     "data": {
      "application/vnd.plotly.v1+json": {
       "config": {
        "plotlyServerURL": "https://plot.ly"
       },
       "data": [
        {
         "colorscale": [
          [
           0,
           "rgb(247,251,255)"
          ],
          [
           0.125,
           "rgb(222,235,247)"
          ],
          [
           0.25,
           "rgb(198,219,239)"
          ],
          [
           0.375,
           "rgb(158,202,225)"
          ],
          [
           0.5,
           "rgb(107,174,214)"
          ],
          [
           0.625,
           "rgb(66,146,198)"
          ],
          [
           0.75,
           "rgb(33,113,181)"
          ],
          [
           0.875,
           "rgb(8,81,156)"
          ],
          [
           1,
           "rgb(8,48,107)"
          ]
         ],
         "showscale": true,
         "text": {
          "bdata": "iwUAAL8BAAA=",
          "dtype": "i2",
          "shape": "2, 2"
         },
         "textfont": {
          "size": 14
         },
         "texttemplate": "%{text}",
         "type": "heatmap",
         "x": [
          "Predicted 0",
          "Predicted 1"
         ],
         "xaxis": "x",
         "y": [
          "True 0",
          "True 1"
         ],
         "yaxis": "y",
         "z": {
          "bdata": "iwUAAL8BAAA=",
          "dtype": "i2",
          "shape": "2, 2"
         }
        },
        {
         "colorscale": [
          [
           0,
           "rgb(247,251,255)"
          ],
          [
           0.125,
           "rgb(222,235,247)"
          ],
          [
           0.25,
           "rgb(198,219,239)"
          ],
          [
           0.375,
           "rgb(158,202,225)"
          ],
          [
           0.5,
           "rgb(107,174,214)"
          ],
          [
           0.625,
           "rgb(66,146,198)"
          ],
          [
           0.75,
           "rgb(33,113,181)"
          ],
          [
           0.875,
           "rgb(8,81,156)"
          ],
          [
           1,
           "rgb(8,48,107)"
          ]
         ],
         "showscale": false,
         "text": {
          "bdata": "QQEAAE8AAAA=",
          "dtype": "i2",
          "shape": "2, 2"
         },
         "textfont": {
          "size": 14
         },
         "texttemplate": "%{text}",
         "type": "heatmap",
         "x": [
          "Predicted 0",
          "Predicted 1"
         ],
         "xaxis": "x2",
         "y": [
          "True 0",
          "True 1"
         ],
         "yaxis": "y2",
         "z": {
          "bdata": "QQEAAE8AAAA=",
          "dtype": "i2",
          "shape": "2, 2"
         }
        },
        {
         "colorscale": [
          [
           0,
           "rgb(247,251,255)"
          ],
          [
           0.125,
           "rgb(222,235,247)"
          ],
          [
           0.25,
           "rgb(198,219,239)"
          ],
          [
           0.375,
           "rgb(158,202,225)"
          ],
          [
           0.5,
           "rgb(107,174,214)"
          ],
          [
           0.625,
           "rgb(66,146,198)"
          ],
          [
           0.75,
           "rgb(33,113,181)"
          ],
          [
           0.875,
           "rgb(8,81,156)"
          ],
          [
           1,
           "rgb(8,48,107)"
          ]
         ],
         "showscale": false,
         "text": {
          "bdata": "QAEAAFAAAAA=",
          "dtype": "i2",
          "shape": "2, 2"
         },
         "textfont": {
          "size": 14
         },
         "texttemplate": "%{text}",
         "type": "heatmap",
         "x": [
          "Predicted 0",
          "Predicted 1"
         ],
         "xaxis": "x3",
         "y": [
          "True 0",
          "True 1"
         ],
         "yaxis": "y3",
         "z": {
          "bdata": "QAEAAFAAAAA=",
          "dtype": "i2",
          "shape": "2, 2"
         }
        }
       ],
       "layout": {
        "annotations": [
         {
          "font": {
           "size": 16
          },
          "showarrow": false,
          "text": "Train",
          "x": 0.14444444444444446,
          "xanchor": "center",
          "xref": "paper",
          "y": 1,
          "yanchor": "bottom",
          "yref": "paper"
         },
         {
          "font": {
           "size": 16
          },
          "showarrow": false,
          "text": "Validation",
          "x": 0.5,
          "xanchor": "center",
          "xref": "paper",
          "y": 1,
          "yanchor": "bottom",
          "yref": "paper"
         },
         {
          "font": {
           "size": 16
          },
          "showarrow": false,
          "text": "Test",
          "x": 0.8555555555555556,
          "xanchor": "center",
          "xref": "paper",
          "y": 1,
          "yanchor": "bottom",
          "yref": "paper"
         }
        ],
        "height": 350,
        "template": {
         "data": {
          "bar": [
           {
            "error_x": {
             "color": "#2a3f5f"
            },
            "error_y": {
             "color": "#2a3f5f"
            },
            "marker": {
             "line": {
              "color": "#E5ECF6",
              "width": 0.5
             },
             "pattern": {
              "fillmode": "overlay",
              "size": 10,
              "solidity": 0.2
             }
            },
            "type": "bar"
           }
          ],
          "barpolar": [
           {
            "marker": {
             "line": {
              "color": "#E5ECF6",
              "width": 0.5
             },
             "pattern": {
              "fillmode": "overlay",
              "size": 10,
              "solidity": 0.2
             }
            },
            "type": "barpolar"
           }
          ],
          "carpet": [
           {
            "aaxis": {
             "endlinecolor": "#2a3f5f",
             "gridcolor": "white",
             "linecolor": "white",
             "minorgridcolor": "white",
             "startlinecolor": "#2a3f5f"
            },
            "baxis": {
             "endlinecolor": "#2a3f5f",
             "gridcolor": "white",
             "linecolor": "white",
             "minorgridcolor": "white",
             "startlinecolor": "#2a3f5f"
            },
            "type": "carpet"
           }
          ],
          "choropleth": [
           {
            "colorbar": {
             "outlinewidth": 0,
             "ticks": ""
            },
            "type": "choropleth"
           }
          ],
          "contour": [
           {
            "colorbar": {
             "outlinewidth": 0,
             "ticks": ""
            },
            "colorscale": [
             [
              0,
              "#0d0887"
             ],
             [
              0.1111111111111111,
              "#46039f"
             ],
             [
              0.2222222222222222,
              "#7201a8"
             ],
             [
              0.3333333333333333,
              "#9c179e"
             ],
             [
              0.4444444444444444,
              "#bd3786"
             ],
             [
              0.5555555555555556,
              "#d8576b"
             ],
             [
              0.6666666666666666,
              "#ed7953"
             ],
             [
              0.7777777777777778,
              "#fb9f3a"
             ],
             [
              0.8888888888888888,
              "#fdca26"
             ],
             [
              1,
              "#f0f921"
             ]
            ],
            "type": "contour"
           }
          ],
          "contourcarpet": [
           {
            "colorbar": {
             "outlinewidth": 0,
             "ticks": ""
            },
            "type": "contourcarpet"
           }
          ],
          "heatmap": [
           {
            "colorbar": {
             "outlinewidth": 0,
             "ticks": ""
            },
            "colorscale": [
             [
              0,
              "#0d0887"
             ],
             [
              0.1111111111111111,
              "#46039f"
             ],
             [
              0.2222222222222222,
              "#7201a8"
             ],
             [
              0.3333333333333333,
              "#9c179e"
             ],
             [
              0.4444444444444444,
              "#bd3786"
             ],
             [
              0.5555555555555556,
              "#d8576b"
             ],
             [
              0.6666666666666666,
              "#ed7953"
             ],
             [
              0.7777777777777778,
              "#fb9f3a"
             ],
             [
              0.8888888888888888,
              "#fdca26"
             ],
             [
              1,
              "#f0f921"
             ]
            ],
            "type": "heatmap"
           }
          ],
          "histogram": [
           {
            "marker": {
             "pattern": {
              "fillmode": "overlay",
              "size": 10,
              "solidity": 0.2
             }
            },
            "type": "histogram"
           }
          ],
          "histogram2d": [
           {
            "colorbar": {
             "outlinewidth": 0,
             "ticks": ""
            },
            "colorscale": [
             [
              0,
              "#0d0887"
             ],
             [
              0.1111111111111111,
              "#46039f"
             ],
             [
              0.2222222222222222,
              "#7201a8"
             ],
             [
              0.3333333333333333,
              "#9c179e"
             ],
             [
              0.4444444444444444,
              "#bd3786"
             ],
             [
              0.5555555555555556,
              "#d8576b"
             ],
             [
              0.6666666666666666,
              "#ed7953"
             ],
             [
              0.7777777777777778,
              "#fb9f3a"
             ],
             [
              0.8888888888888888,
              "#fdca26"
             ],
             [
              1,
              "#f0f921"
             ]
            ],
            "type": "histogram2d"
           }
          ],
          "histogram2dcontour": [
           {
            "colorbar": {
             "outlinewidth": 0,
             "ticks": ""
            },
            "colorscale": [
             [
              0,
              "#0d0887"
             ],
             [
              0.1111111111111111,
              "#46039f"
             ],
             [
              0.2222222222222222,
              "#7201a8"
             ],
             [
              0.3333333333333333,
              "#9c179e"
             ],
             [
              0.4444444444444444,
              "#bd3786"
             ],
             [
              0.5555555555555556,
              "#d8576b"
             ],
             [
              0.6666666666666666,
              "#ed7953"
             ],
             [
              0.7777777777777778,
              "#fb9f3a"
             ],
             [
              0.8888888888888888,
              "#fdca26"
             ],
             [
              1,
              "#f0f921"
             ]
            ],
            "type": "histogram2dcontour"
           }
          ],
          "mesh3d": [
           {
            "colorbar": {
             "outlinewidth": 0,
             "ticks": ""
            },
            "type": "mesh3d"
           }
          ],
          "parcoords": [
           {
            "line": {
             "colorbar": {
              "outlinewidth": 0,
              "ticks": ""
             }
            },
            "type": "parcoords"
           }
          ],
          "pie": [
           {
            "automargin": true,
            "type": "pie"
           }
          ],
          "scatter": [
           {
            "fillpattern": {
             "fillmode": "overlay",
             "size": 10,
             "solidity": 0.2
            },
            "type": "scatter"
           }
          ],
          "scatter3d": [
           {
            "line": {
             "colorbar": {
              "outlinewidth": 0,
              "ticks": ""
             }
            },
            "marker": {
             "colorbar": {
              "outlinewidth": 0,
              "ticks": ""
             }
            },
            "type": "scatter3d"
           }
          ],
          "scattercarpet": [
           {
            "marker": {
             "colorbar": {
              "outlinewidth": 0,
              "ticks": ""
             }
            },
            "type": "scattercarpet"
           }
          ],
          "scattergeo": [
           {
            "marker": {
             "colorbar": {
              "outlinewidth": 0,
              "ticks": ""
             }
            },
            "type": "scattergeo"
           }
          ],
          "scattergl": [
           {
            "marker": {
             "colorbar": {
              "outlinewidth": 0,
              "ticks": ""
             }
            },
            "type": "scattergl"
           }
          ],
          "scattermap": [
           {
            "marker": {
             "colorbar": {
              "outlinewidth": 0,
              "ticks": ""
             }
            },
            "type": "scattermap"
           }
          ],
          "scattermapbox": [
           {
            "marker": {
             "colorbar": {
              "outlinewidth": 0,
              "ticks": ""
             }
            },
            "type": "scattermapbox"
           }
          ],
          "scatterpolar": [
           {
            "marker": {
             "colorbar": {
              "outlinewidth": 0,
              "ticks": ""
             }
            },
            "type": "scatterpolar"
           }
          ],
          "scatterpolargl": [
           {
            "marker": {
             "colorbar": {
              "outlinewidth": 0,
              "ticks": ""
             }
            },
            "type": "scatterpolargl"
           }
          ],
          "scatterternary": [
           {
            "marker": {
             "colorbar": {
              "outlinewidth": 0,
              "ticks": ""
             }
            },
            "type": "scatterternary"
           }
          ],
          "surface": [
           {
            "colorbar": {
             "outlinewidth": 0,
             "ticks": ""
            },
            "colorscale": [
             [
              0,
              "#0d0887"
             ],
             [
              0.1111111111111111,
              "#46039f"
             ],
             [
              0.2222222222222222,
              "#7201a8"
             ],
             [
              0.3333333333333333,
              "#9c179e"
             ],
             [
              0.4444444444444444,
              "#bd3786"
             ],
             [
              0.5555555555555556,
              "#d8576b"
             ],
             [
              0.6666666666666666,
              "#ed7953"
             ],
             [
              0.7777777777777778,
              "#fb9f3a"
             ],
             [
              0.8888888888888888,
              "#fdca26"
             ],
             [
              1,
              "#f0f921"
             ]
            ],
            "type": "surface"
           }
          ],
          "table": [
           {
            "cells": {
             "fill": {
              "color": "#EBF0F8"
             },
             "line": {
              "color": "white"
             }
            },
            "header": {
             "fill": {
              "color": "#C8D4E3"
             },
             "line": {
              "color": "white"
             }
            },
            "type": "table"
           }
          ]
         },
         "layout": {
          "annotationdefaults": {
           "arrowcolor": "#2a3f5f",
           "arrowhead": 0,
           "arrowwidth": 1
          },
          "autotypenumbers": "strict",
          "coloraxis": {
           "colorbar": {
            "outlinewidth": 0,
            "ticks": ""
           }
          },
          "colorscale": {
           "diverging": [
            [
             0,
             "#8e0152"
            ],
            [
             0.1,
             "#c51b7d"
            ],
            [
             0.2,
             "#de77ae"
            ],
            [
             0.3,
             "#f1b6da"
            ],
            [
             0.4,
             "#fde0ef"
            ],
            [
             0.5,
             "#f7f7f7"
            ],
            [
             0.6,
             "#e6f5d0"
            ],
            [
             0.7,
             "#b8e186"
            ],
            [
             0.8,
             "#7fbc41"
            ],
            [
             0.9,
             "#4d9221"
            ],
            [
             1,
             "#276419"
            ]
           ],
           "sequential": [
            [
             0,
             "#0d0887"
            ],
            [
             0.1111111111111111,
             "#46039f"
            ],
            [
             0.2222222222222222,
             "#7201a8"
            ],
            [
             0.3333333333333333,
             "#9c179e"
            ],
            [
             0.4444444444444444,
             "#bd3786"
            ],
            [
             0.5555555555555556,
             "#d8576b"
            ],
            [
             0.6666666666666666,
             "#ed7953"
            ],
            [
             0.7777777777777778,
             "#fb9f3a"
            ],
            [
             0.8888888888888888,
             "#fdca26"
            ],
            [
             1,
             "#f0f921"
            ]
           ],
           "sequentialminus": [
            [
             0,
             "#0d0887"
            ],
            [
             0.1111111111111111,
             "#46039f"
            ],
            [
             0.2222222222222222,
             "#7201a8"
            ],
            [
             0.3333333333333333,
             "#9c179e"
            ],
            [
             0.4444444444444444,
             "#bd3786"
            ],
            [
             0.5555555555555556,
             "#d8576b"
            ],
            [
             0.6666666666666666,
             "#ed7953"
            ],
            [
             0.7777777777777778,
             "#fb9f3a"
            ],
            [
             0.8888888888888888,
             "#fdca26"
            ],
            [
             1,
             "#f0f921"
            ]
           ]
          },
          "colorway": [
           "#636efa",
           "#EF553B",
           "#00cc96",
           "#ab63fa",
           "#FFA15A",
           "#19d3f3",
           "#FF6692",
           "#B6E880",
           "#FF97FF",
           "#FECB52"
          ],
          "font": {
           "color": "#2a3f5f"
          },
          "geo": {
           "bgcolor": "white",
           "lakecolor": "white",
           "landcolor": "#E5ECF6",
           "showlakes": true,
           "showland": true,
           "subunitcolor": "white"
          },
          "hoverlabel": {
           "align": "left"
          },
          "hovermode": "closest",
          "mapbox": {
           "style": "light"
          },
          "paper_bgcolor": "white",
          "plot_bgcolor": "#E5ECF6",
          "polar": {
           "angularaxis": {
            "gridcolor": "white",
            "linecolor": "white",
            "ticks": ""
           },
           "bgcolor": "#E5ECF6",
           "radialaxis": {
            "gridcolor": "white",
            "linecolor": "white",
            "ticks": ""
           }
          },
          "scene": {
           "xaxis": {
            "backgroundcolor": "#E5ECF6",
            "gridcolor": "white",
            "gridwidth": 2,
            "linecolor": "white",
            "showbackground": true,
            "ticks": "",
            "zerolinecolor": "white"
           },
           "yaxis": {
            "backgroundcolor": "#E5ECF6",
            "gridcolor": "white",
            "gridwidth": 2,
            "linecolor": "white",
            "showbackground": true,
            "ticks": "",
            "zerolinecolor": "white"
           },
           "zaxis": {
            "backgroundcolor": "#E5ECF6",
            "gridcolor": "white",
            "gridwidth": 2,
            "linecolor": "white",
            "showbackground": true,
            "ticks": "",
            "zerolinecolor": "white"
           }
          },
          "shapedefaults": {
           "line": {
            "color": "#2a3f5f"
           }
          },
          "ternary": {
           "aaxis": {
            "gridcolor": "white",
            "linecolor": "white",
            "ticks": ""
           },
           "baxis": {
            "gridcolor": "white",
            "linecolor": "white",
            "ticks": ""
           },
           "bgcolor": "#E5ECF6",
           "caxis": {
            "gridcolor": "white",
            "linecolor": "white",
            "ticks": ""
           }
          },
          "title": {
           "x": 0.05
          },
          "xaxis": {
           "automargin": true,
           "gridcolor": "white",
           "linecolor": "white",
           "ticks": "",
           "title": {
            "standoff": 15
           },
           "zerolinecolor": "white",
           "zerolinewidth": 2
          },
          "yaxis": {
           "automargin": true,
           "gridcolor": "white",
           "linecolor": "white",
           "ticks": "",
           "title": {
            "standoff": 15
           },
           "zerolinecolor": "white",
           "zerolinewidth": 2
          }
         }
        },
        "title": {
         "text": "Confusion Matrices"
        },
        "width": 900,
        "xaxis": {
         "anchor": "y",
         "domain": [
          0,
          0.2888888888888889
         ]
        },
        "xaxis2": {
         "anchor": "y2",
         "domain": [
          0.35555555555555557,
          0.6444444444444445
         ]
        },
        "xaxis3": {
         "anchor": "y3",
         "domain": [
          0.7111111111111111,
          1
         ]
        },
        "yaxis": {
         "anchor": "x",
         "domain": [
          0,
          1
         ]
        },
        "yaxis2": {
         "anchor": "x2",
         "domain": [
          0,
          1
         ]
        },
        "yaxis3": {
         "anchor": "x3",
         "domain": [
          0,
          1
         ]
        }
       }
      }
     },
     "metadata": {},
     "output_type": "display_data"
    },
    {
     "data": {
      "application/vnd.plotly.v1+json": {
       "config": {
        "plotlyServerURL": "https://plot.ly"
       },
       "data": [
        {
         "legendgroup": "group1",
         "name": "Train - True Label 0",
         "nbinsx": 30,
         "opacity": 0.7,
         "type": "histogram",
         "x": {
          "bdata": "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",
          "dtype": "f8"
         },
         "xaxis": "x",
         "yaxis": "y"
        },
        {
         "legendgroup": "group1",
         "name": "Train - True Label 1",
         "nbinsx": 30,
         "opacity": 0.7,
         "type": "histogram",
         "x": {
          "bdata": "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",
          "dtype": "f8"
         },
         "xaxis": "x",
         "yaxis": "y"
        },
        {
         "legendgroup": "group2",
         "name": "Validation - True Label 0",
         "nbinsx": 30,
         "opacity": 0.7,
         "type": "histogram",
         "x": {
          "bdata": "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",
          "dtype": "f8"
         },
         "xaxis": "x2",
         "yaxis": "y2"
        },
        {
         "legendgroup": "group2",
         "name": "Validation - True Label 1",
         "nbinsx": 30,
         "opacity": 0.7,
         "type": "histogram",
         "x": {
          "bdata": "J8KGp1fK1j8UrkfhehTWP9JvXwfOGdU/c2iR7Xw/1T8wuycPC7XWP6qCUUmdgNY/+MJkqmBU1j91kxgEVg7VP6YKRiV1AtY/cF8HzhlR1j+4rwPnjCjVPzhnRGlv8NU/vVKWIY511T9kzF1LyAfVP6d5xyk6ktc/+zpwzojS1j+Ens2qz9XWPwN4CyQoftQ/5/up8dJN1j8ofoy5awnVP76fGi/dJNY/Njy9UpYh1j8hH/RsVn3WP5MYBFYOLdY/jSjtDb4w1T/iWBe30QDWP4iFWtO849Q/Ne84RUdy1T9lqmBUUifYP4zbaABvgdQ/F0hQ/Bhz1z9aZDvfT43XP5eQD3o2q9Y/KxiV1Alo1j/67evAOSPWP799HThnRNU/ak3zjlN02D+yLm6jAbzVP0hQ/Bhz19Y/DJOpglFJ1T+2hHzQs1nVP+M2GsBbINU/VFInoImw1T//snvysFDXP9Pe4AuTqdY/3pOHhVrT1D/IBz2bVZ/XP9CzWfW52tY/MuauJeSD1j+eXinLEMfWP9GRXP5D+tU/eAskKH6M1T/eAgmKH2PWPxniWBe30dQ/G55eKcsQ1z+aCBueXinXP6g1zTtO0dU/RwN4CyQo1j+62or9ZffUPzY8vVKWIdY/CYofY+5a1j9xGw3gLZDYP3bgnBGlvdU/pgpGJXUC1j93LSEf9GzWPzBMpgpGJdU/WRe30QDe1j+MSuoENBHWP1yPwvUoXNc/HcnlP6Tf1j8s1JrmHafUP/H0SlmGONY/BcWPMXct1T+Uh4Va07zXP4MvTKYKRtU/I0p7gy9M1j+WIY51cRvVP921hHzQs9U/6gQ0ETY81T8=",
          "dtype": "f8"
         },
         "xaxis": "x2",
         "yaxis": "y2"
        },
        {
         "legendgroup": "group3",
         "name": "Test - True Label 0",
         "nbinsx": 30,
         "opacity": 0.7,
         "type": "histogram",
         "x": {
          "bdata": "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",
          "dtype": "f8"
         },
         "xaxis": "x3",
         "yaxis": "y3"
        },
        {
         "legendgroup": "group3",
         "name": "Test - True Label 1",
         "nbinsx": 30,
         "opacity": 0.7,
         "type": "histogram",
         "x": {
          "bdata": "vw6cM6K01z/sUbgehevVP8GopE5AE9U/+n5qvHST1D9hw9MrZRnWPynLEMe6uNU/9pfdk4eF1j+dEaW9wRfWP3Gsi9toANc/WKg1zTtO1T9F2PD0SlnWP0Otad5xitY/zO7Jw0Kt1T8VHcnlP6TXP6YKRiV1AtY/KH6MuWsJ1T/dJAaBlUPXP4xK6gQ0EdY/zF1LyAc91z/1SlmGONbVP7WmeccpOtY/NBE2PL1S1j+b5h2n6EjWP55eKcsQx9Y/ZRniWBe31T/Sb18HzhnVPxKDwMqhRdY/pU5AE2HD1z+L/WX35GHVP9GRXP5D+tU/ZDvfT42X1j9YyjLEsS7WP5yiI7n8h9Q/qoJRSZ2A1j+WsgxxrIvXPzJ3LSEf9NQ/9GxWfa621j9cj8L1KFzTPxZqTfOOU9g/hJ7Nqs/V1j/sL7snDwvVP807TtGRXNY/WvW52or91T9pb/CFyVTVP8sQx7q4jdY/I0p7gy9M1j/eAgmKH2PWP3xhMlUwKtU/iUFg5dAi1z/WxW00gLfUP3gLJCh+jNU/sHJoke181z9fmEwVjErWP166SQwCK9c/VFInoImw1T9xPQrXo3DVP9QrZRniWNc/ZRniWBe31T8mUwWjkjrVP1tCPujZrNY/eVioNc071j/eAgmKH2PWPyzUmuYdp9Q/hlrTvOMU1T++nxov3STWP3Noke18P9U/xm00gLdA1j9aZDvfT43XPxsv3SQGgdU/nYAmwoan1z/QRNjw9ErVP+VhodY079Q/qDXNO07R1T9wXwfOGVHWPwKaCBueXtU/FD/G3LWE1D8FNBE2PL3WP/aX3ZOHhdY/S8gHPZtV1z8Cmggbnl7VPw==",
          "dtype": "f8"
         },
         "xaxis": "x3",
         "yaxis": "y3"
        }
       ],
       "layout": {
        "annotations": [
         {
          "font": {
           "size": 16
          },
          "showarrow": false,
          "text": "Train",
          "x": 0.14444444444444446,
          "xanchor": "center",
          "xref": "paper",
          "y": 1,
          "yanchor": "bottom",
          "yref": "paper"
         },
         {
          "font": {
           "size": 16
          },
          "showarrow": false,
          "text": "Validation",
          "x": 0.5,
          "xanchor": "center",
          "xref": "paper",
          "y": 1,
          "yanchor": "bottom",
          "yref": "paper"
         },
         {
          "font": {
           "size": 16
          },
          "showarrow": false,
          "text": "Test",
          "x": 0.8555555555555556,
          "xanchor": "center",
          "xref": "paper",
          "y": 1,
          "yanchor": "bottom",
          "yref": "paper"
         }
        ],
        "barmode": "overlay",
        "height": 400,
        "template": {
         "data": {
          "bar": [
           {
            "error_x": {
             "color": "#2a3f5f"
            },
            "error_y": {
             "color": "#2a3f5f"
            },
            "marker": {
             "line": {
              "color": "#E5ECF6",
              "width": 0.5
             },
             "pattern": {
              "fillmode": "overlay",
              "size": 10,
              "solidity": 0.2
             }
            },
            "type": "bar"
           }
          ],
          "barpolar": [
           {
            "marker": {
             "line": {
              "color": "#E5ECF6",
              "width": 0.5
             },
             "pattern": {
              "fillmode": "overlay",
              "size": 10,
              "solidity": 0.2
             }
            },
            "type": "barpolar"
           }
          ],
          "carpet": [
           {
            "aaxis": {
             "endlinecolor": "#2a3f5f",
             "gridcolor": "white",
             "linecolor": "white",
             "minorgridcolor": "white",
             "startlinecolor": "#2a3f5f"
            },
            "baxis": {
             "endlinecolor": "#2a3f5f",
             "gridcolor": "white",
             "linecolor": "white",
             "minorgridcolor": "white",
             "startlinecolor": "#2a3f5f"
            },
            "type": "carpet"
           }
          ],
          "choropleth": [
           {
            "colorbar": {
             "outlinewidth": 0,
             "ticks": ""
            },
            "type": "choropleth"
           }
          ],
          "contour": [
           {
            "colorbar": {
             "outlinewidth": 0,
             "ticks": ""
            },
            "colorscale": [
             [
              0,
              "#0d0887"
             ],
             [
              0.1111111111111111,
              "#46039f"
             ],
             [
              0.2222222222222222,
              "#7201a8"
             ],
             [
              0.3333333333333333,
              "#9c179e"
             ],
             [
              0.4444444444444444,
              "#bd3786"
             ],
             [
              0.5555555555555556,
              "#d8576b"
             ],
             [
              0.6666666666666666,
              "#ed7953"
             ],
             [
              0.7777777777777778,
              "#fb9f3a"
             ],
             [
              0.8888888888888888,
              "#fdca26"
             ],
             [
              1,
              "#f0f921"
             ]
            ],
            "type": "contour"
           }
          ],
          "contourcarpet": [
           {
            "colorbar": {
             "outlinewidth": 0,
             "ticks": ""
            },
            "type": "contourcarpet"
           }
          ],
          "heatmap": [
           {
            "colorbar": {
             "outlinewidth": 0,
             "ticks": ""
            },
            "colorscale": [
             [
              0,
              "#0d0887"
             ],
             [
              0.1111111111111111,
              "#46039f"
             ],
             [
              0.2222222222222222,
              "#7201a8"
             ],
             [
              0.3333333333333333,
              "#9c179e"
             ],
             [
              0.4444444444444444,
              "#bd3786"
             ],
             [
              0.5555555555555556,
              "#d8576b"
             ],
             [
              0.6666666666666666,
              "#ed7953"
             ],
             [
              0.7777777777777778,
              "#fb9f3a"
             ],
             [
              0.8888888888888888,
              "#fdca26"
             ],
             [
              1,
              "#f0f921"
             ]
            ],
            "type": "heatmap"
           }
          ],
          "histogram": [
           {
            "marker": {
             "pattern": {
              "fillmode": "overlay",
              "size": 10,
              "solidity": 0.2
             }
            },
            "type": "histogram"
           }
          ],
          "histogram2d": [
           {
            "colorbar": {
             "outlinewidth": 0,
             "ticks": ""
            },
            "colorscale": [
             [
              0,
              "#0d0887"
             ],
             [
              0.1111111111111111,
              "#46039f"
             ],
             [
              0.2222222222222222,
              "#7201a8"
             ],
             [
              0.3333333333333333,
              "#9c179e"
             ],
             [
              0.4444444444444444,
              "#bd3786"
             ],
             [
              0.5555555555555556,
              "#d8576b"
             ],
             [
              0.6666666666666666,
              "#ed7953"
             ],
             [
              0.7777777777777778,
              "#fb9f3a"
             ],
             [
              0.8888888888888888,
              "#fdca26"
             ],
             [
              1,
              "#f0f921"
             ]
            ],
            "type": "histogram2d"
           }
          ],
          "histogram2dcontour": [
           {
            "colorbar": {
             "outlinewidth": 0,
             "ticks": ""
            },
            "colorscale": [
             [
              0,
              "#0d0887"
             ],
             [
              0.1111111111111111,
              "#46039f"
             ],
             [
              0.2222222222222222,
              "#7201a8"
             ],
             [
              0.3333333333333333,
              "#9c179e"
             ],
             [
              0.4444444444444444,
              "#bd3786"
             ],
             [
              0.5555555555555556,
              "#d8576b"
             ],
             [
              0.6666666666666666,
              "#ed7953"
             ],
             [
              0.7777777777777778,
              "#fb9f3a"
             ],
             [
              0.8888888888888888,
              "#fdca26"
             ],
             [
              1,
              "#f0f921"
             ]
            ],
            "type": "histogram2dcontour"
           }
          ],
          "mesh3d": [
           {
            "colorbar": {
             "outlinewidth": 0,
             "ticks": ""
            },
            "type": "mesh3d"
           }
          ],
          "parcoords": [
           {
            "line": {
             "colorbar": {
              "outlinewidth": 0,
              "ticks": ""
             }
            },
            "type": "parcoords"
           }
          ],
          "pie": [
           {
            "automargin": true,
            "type": "pie"
           }
          ],
          "scatter": [
           {
            "fillpattern": {
             "fillmode": "overlay",
             "size": 10,
             "solidity": 0.2
            },
            "type": "scatter"
           }
          ],
          "scatter3d": [
           {
            "line": {
             "colorbar": {
              "outlinewidth": 0,
              "ticks": ""
             }
            },
            "marker": {
             "colorbar": {
              "outlinewidth": 0,
              "ticks": ""
             }
            },
            "type": "scatter3d"
           }
          ],
          "scattercarpet": [
           {
            "marker": {
             "colorbar": {
              "outlinewidth": 0,
              "ticks": ""
             }
            },
            "type": "scattercarpet"
           }
          ],
          "scattergeo": [
           {
            "marker": {
             "colorbar": {
              "outlinewidth": 0,
              "ticks": ""
             }
            },
            "type": "scattergeo"
           }
          ],
          "scattergl": [
           {
            "marker": {
             "colorbar": {
              "outlinewidth": 0,
              "ticks": ""
             }
            },
            "type": "scattergl"
           }
          ],
          "scattermap": [
           {
            "marker": {
             "colorbar": {
              "outlinewidth": 0,
              "ticks": ""
             }
            },
            "type": "scattermap"
           }
          ],
          "scattermapbox": [
           {
            "marker": {
             "colorbar": {
              "outlinewidth": 0,
              "ticks": ""
             }
            },
            "type": "scattermapbox"
           }
          ],
          "scatterpolar": [
           {
            "marker": {
             "colorbar": {
              "outlinewidth": 0,
              "ticks": ""
             }
            },
            "type": "scatterpolar"
           }
          ],
          "scatterpolargl": [
           {
            "marker": {
             "colorbar": {
              "outlinewidth": 0,
              "ticks": ""
             }
            },
            "type": "scatterpolargl"
           }
          ],
          "scatterternary": [
           {
            "marker": {
             "colorbar": {
              "outlinewidth": 0,
              "ticks": ""
             }
            },
            "type": "scatterternary"
           }
          ],
          "surface": [
           {
            "colorbar": {
             "outlinewidth": 0,
             "ticks": ""
            },
            "colorscale": [
             [
              0,
              "#0d0887"
             ],
             [
              0.1111111111111111,
              "#46039f"
             ],
             [
              0.2222222222222222,
              "#7201a8"
             ],
             [
              0.3333333333333333,
              "#9c179e"
             ],
             [
              0.4444444444444444,
              "#bd3786"
             ],
             [
              0.5555555555555556,
              "#d8576b"
             ],
             [
              0.6666666666666666,
              "#ed7953"
             ],
             [
              0.7777777777777778,
              "#fb9f3a"
             ],
             [
              0.8888888888888888,
              "#fdca26"
             ],
             [
              1,
              "#f0f921"
             ]
            ],
            "type": "surface"
           }
          ],
          "table": [
           {
            "cells": {
             "fill": {
              "color": "#EBF0F8"
             },
             "line": {
              "color": "white"
             }
            },
            "header": {
             "fill": {
              "color": "#C8D4E3"
             },
             "line": {
              "color": "white"
             }
            },
            "type": "table"
           }
          ]
         },
         "layout": {
          "annotationdefaults": {
           "arrowcolor": "#2a3f5f",
           "arrowhead": 0,
           "arrowwidth": 1
          },
          "autotypenumbers": "strict",
          "coloraxis": {
           "colorbar": {
            "outlinewidth": 0,
            "ticks": ""
           }
          },
          "colorscale": {
           "diverging": [
            [
             0,
             "#8e0152"
            ],
            [
             0.1,
             "#c51b7d"
            ],
            [
             0.2,
             "#de77ae"
            ],
            [
             0.3,
             "#f1b6da"
            ],
            [
             0.4,
             "#fde0ef"
            ],
            [
             0.5,
             "#f7f7f7"
            ],
            [
             0.6,
             "#e6f5d0"
            ],
            [
             0.7,
             "#b8e186"
            ],
            [
             0.8,
             "#7fbc41"
            ],
            [
             0.9,
             "#4d9221"
            ],
            [
             1,
             "#276419"
            ]
           ],
           "sequential": [
            [
             0,
             "#0d0887"
            ],
            [
             0.1111111111111111,
             "#46039f"
            ],
            [
             0.2222222222222222,
             "#7201a8"
            ],
            [
             0.3333333333333333,
             "#9c179e"
            ],
            [
             0.4444444444444444,
             "#bd3786"
            ],
            [
             0.5555555555555556,
             "#d8576b"
            ],
            [
             0.6666666666666666,
             "#ed7953"
            ],
            [
             0.7777777777777778,
             "#fb9f3a"
            ],
            [
             0.8888888888888888,
             "#fdca26"
            ],
            [
             1,
             "#f0f921"
            ]
           ],
           "sequentialminus": [
            [
             0,
             "#0d0887"
            ],
            [
             0.1111111111111111,
             "#46039f"
            ],
            [
             0.2222222222222222,
             "#7201a8"
            ],
            [
             0.3333333333333333,
             "#9c179e"
            ],
            [
             0.4444444444444444,
             "#bd3786"
            ],
            [
             0.5555555555555556,
             "#d8576b"
            ],
            [
             0.6666666666666666,
             "#ed7953"
            ],
            [
             0.7777777777777778,
             "#fb9f3a"
            ],
            [
             0.8888888888888888,
             "#fdca26"
            ],
            [
             1,
             "#f0f921"
            ]
           ]
          },
          "colorway": [
           "#636efa",
           "#EF553B",
           "#00cc96",
           "#ab63fa",
           "#FFA15A",
           "#19d3f3",
           "#FF6692",
           "#B6E880",
           "#FF97FF",
           "#FECB52"
          ],
          "font": {
           "color": "#2a3f5f"
          },
          "geo": {
           "bgcolor": "white",
           "lakecolor": "white",
           "landcolor": "#E5ECF6",
           "showlakes": true,
           "showland": true,
           "subunitcolor": "white"
          },
          "hoverlabel": {
           "align": "left"
          },
          "hovermode": "closest",
          "mapbox": {
           "style": "light"
          },
          "paper_bgcolor": "white",
          "plot_bgcolor": "#E5ECF6",
          "polar": {
           "angularaxis": {
            "gridcolor": "white",
            "linecolor": "white",
            "ticks": ""
           },
           "bgcolor": "#E5ECF6",
           "radialaxis": {
            "gridcolor": "white",
            "linecolor": "white",
            "ticks": ""
           }
          },
          "scene": {
           "xaxis": {
            "backgroundcolor": "#E5ECF6",
            "gridcolor": "white",
            "gridwidth": 2,
            "linecolor": "white",
            "showbackground": true,
            "ticks": "",
            "zerolinecolor": "white"
           },
           "yaxis": {
            "backgroundcolor": "#E5ECF6",
            "gridcolor": "white",
            "gridwidth": 2,
            "linecolor": "white",
            "showbackground": true,
            "ticks": "",
            "zerolinecolor": "white"
           },
           "zaxis": {
            "backgroundcolor": "#E5ECF6",
            "gridcolor": "white",
            "gridwidth": 2,
            "linecolor": "white",
            "showbackground": true,
            "ticks": "",
            "zerolinecolor": "white"
           }
          },
          "shapedefaults": {
           "line": {
            "color": "#2a3f5f"
           }
          },
          "ternary": {
           "aaxis": {
            "gridcolor": "white",
            "linecolor": "white",
            "ticks": ""
           },
           "baxis": {
            "gridcolor": "white",
            "linecolor": "white",
            "ticks": ""
           },
           "bgcolor": "#E5ECF6",
           "caxis": {
            "gridcolor": "white",
            "linecolor": "white",
            "ticks": ""
           }
          },
          "title": {
           "x": 0.05
          },
          "xaxis": {
           "automargin": true,
           "gridcolor": "white",
           "linecolor": "white",
           "ticks": "",
           "title": {
            "standoff": 15
           },
           "zerolinecolor": "white",
           "zerolinewidth": 2
          },
          "yaxis": {
           "automargin": true,
           "gridcolor": "white",
           "linecolor": "white",
           "ticks": "",
           "title": {
            "standoff": 15
           },
           "zerolinecolor": "white",
           "zerolinewidth": 2
          }
         }
        },
        "title": {
         "text": "Probability Distributions by True Label"
        },
        "width": 1200,
        "xaxis": {
         "anchor": "y",
         "domain": [
          0,
          0.2888888888888889
         ],
         "title": {
          "text": "Predicted Probability"
         }
        },
        "xaxis2": {
         "anchor": "y2",
         "domain": [
          0.35555555555555557,
          0.6444444444444445
         ],
         "title": {
          "text": "Predicted Probability"
         }
        },
        "xaxis3": {
         "anchor": "y3",
         "domain": [
          0.7111111111111111,
          1
         ],
         "title": {
          "text": "Predicted Probability"
         }
        },
        "yaxis": {
         "anchor": "x",
         "domain": [
          0,
          1
         ],
         "title": {
          "text": "Count"
         }
        },
        "yaxis2": {
         "anchor": "x2",
         "domain": [
          0,
          1
         ],
         "title": {
          "text": "Count"
         }
        },
        "yaxis3": {
         "anchor": "x3",
         "domain": [
          0,
          1
         ],
         "title": {
          "text": "Count"
         }
        }
       }
      }
     },
     "metadata": {},
     "output_type": "display_data"
    },
    {
     "data": {
      "application/vnd.plotly.v1+json": {
       "config": {
        "plotlyServerURL": "https://plot.ly"
       },
       "data": [
        {
         "cells": {
          "align": "left",
          "fill": {
           "color": "lavender"
          },
          "format": [
           null,
           ".4f",
           ".4f",
           ".4f",
           ".4f",
           ".4f",
           null,
           null,
           null,
           null
          ],
          "values": [
           [
            "Train",
            "Validation",
            "Test"
           ],
           [
            0.7604501607717041,
            0.8025,
            0.8
           ],
           [
            0,
            0,
            0
           ],
           [
            0,
            0,
            0
           ],
           [
            0,
            0,
            0
           ],
           [
            0.6237535334616652,
            0.47273157458890336,
            0.46689453125
           ],
           [
            0,
            0,
            0
           ],
           [
            1419,
            321,
            320
           ],
           [
            0,
            0,
            0
           ],
           [
            447,
            79,
            80
           ]
          ]
         },
         "header": {
          "align": "left",
          "fill": {
           "color": "paleturquoise"
          },
          "values": [
           "Dataset",
           "Accuracy",
           "Precision",
           "Recall",
           "F1-Score",
           "AUC-ROC",
           "True Positives",
           "True Negatives",
           "False Positives",
           "False Negatives"
          ]
         },
         "type": "table"
        }
       ],
       "layout": {
        "height": 300,
        "template": {
         "data": {
          "bar": [
           {
            "error_x": {
             "color": "#2a3f5f"
            },
            "error_y": {
             "color": "#2a3f5f"
            },
            "marker": {
             "line": {
              "color": "#E5ECF6",
              "width": 0.5
             },
             "pattern": {
              "fillmode": "overlay",
              "size": 10,
              "solidity": 0.2
             }
            },
            "type": "bar"
           }
          ],
          "barpolar": [
           {
            "marker": {
             "line": {
              "color": "#E5ECF6",
              "width": 0.5
             },
             "pattern": {
              "fillmode": "overlay",
              "size": 10,
              "solidity": 0.2
             }
            },
            "type": "barpolar"
           }
          ],
          "carpet": [
           {
            "aaxis": {
             "endlinecolor": "#2a3f5f",
             "gridcolor": "white",
             "linecolor": "white",
             "minorgridcolor": "white",
             "startlinecolor": "#2a3f5f"
            },
            "baxis": {
             "endlinecolor": "#2a3f5f",
             "gridcolor": "white",
             "linecolor": "white",
             "minorgridcolor": "white",
             "startlinecolor": "#2a3f5f"
            },
            "type": "carpet"
           }
          ],
          "choropleth": [
           {
            "colorbar": {
             "outlinewidth": 0,
             "ticks": ""
            },
            "type": "choropleth"
           }
          ],
          "contour": [
           {
            "colorbar": {
             "outlinewidth": 0,
             "ticks": ""
            },
            "colorscale": [
             [
              0,
              "#0d0887"
             ],
             [
              0.1111111111111111,
              "#46039f"
             ],
             [
              0.2222222222222222,
              "#7201a8"
             ],
             [
              0.3333333333333333,
              "#9c179e"
             ],
             [
              0.4444444444444444,
              "#bd3786"
             ],
             [
              0.5555555555555556,
              "#d8576b"
             ],
             [
              0.6666666666666666,
              "#ed7953"
             ],
             [
              0.7777777777777778,
              "#fb9f3a"
             ],
             [
              0.8888888888888888,
              "#fdca26"
             ],
             [
              1,
              "#f0f921"
             ]
            ],
            "type": "contour"
           }
          ],
          "contourcarpet": [
           {
            "colorbar": {
             "outlinewidth": 0,
             "ticks": ""
            },
            "type": "contourcarpet"
           }
          ],
          "heatmap": [
           {
            "colorbar": {
             "outlinewidth": 0,
             "ticks": ""
            },
            "colorscale": [
             [
              0,
              "#0d0887"
             ],
             [
              0.1111111111111111,
              "#46039f"
             ],
             [
              0.2222222222222222,
              "#7201a8"
             ],
             [
              0.3333333333333333,
              "#9c179e"
             ],
             [
              0.4444444444444444,
              "#bd3786"
             ],
             [
              0.5555555555555556,
              "#d8576b"
             ],
             [
              0.6666666666666666,
              "#ed7953"
             ],
             [
              0.7777777777777778,
              "#fb9f3a"
             ],
             [
              0.8888888888888888,
              "#fdca26"
             ],
             [
              1,
              "#f0f921"
             ]
            ],
            "type": "heatmap"
           }
          ],
          "histogram": [
           {
            "marker": {
             "pattern": {
              "fillmode": "overlay",
              "size": 10,
              "solidity": 0.2
             }
            },
            "type": "histogram"
           }
          ],
          "histogram2d": [
           {
            "colorbar": {
             "outlinewidth": 0,
             "ticks": ""
            },
            "colorscale": [
             [
              0,
              "#0d0887"
             ],
             [
              0.1111111111111111,
              "#46039f"
             ],
             [
              0.2222222222222222,
              "#7201a8"
             ],
             [
              0.3333333333333333,
              "#9c179e"
             ],
             [
              0.4444444444444444,
              "#bd3786"
             ],
             [
              0.5555555555555556,
              "#d8576b"
             ],
             [
              0.6666666666666666,
              "#ed7953"
             ],
             [
              0.7777777777777778,
              "#fb9f3a"
             ],
             [
              0.8888888888888888,
              "#fdca26"
             ],
             [
              1,
              "#f0f921"
             ]
            ],
            "type": "histogram2d"
           }
          ],
          "histogram2dcontour": [
           {
            "colorbar": {
             "outlinewidth": 0,
             "ticks": ""
            },
            "colorscale": [
             [
              0,
              "#0d0887"
             ],
             [
              0.1111111111111111,
              "#46039f"
             ],
             [
              0.2222222222222222,
              "#7201a8"
             ],
             [
              0.3333333333333333,
              "#9c179e"
             ],
             [
              0.4444444444444444,
              "#bd3786"
             ],
             [
              0.5555555555555556,
              "#d8576b"
             ],
             [
              0.6666666666666666,
              "#ed7953"
             ],
             [
              0.7777777777777778,
              "#fb9f3a"
             ],
             [
              0.8888888888888888,
              "#fdca26"
             ],
             [
              1,
              "#f0f921"
             ]
            ],
            "type": "histogram2dcontour"
           }
          ],
          "mesh3d": [
           {
            "colorbar": {
             "outlinewidth": 0,
             "ticks": ""
            },
            "type": "mesh3d"
           }
          ],
          "parcoords": [
           {
            "line": {
             "colorbar": {
              "outlinewidth": 0,
              "ticks": ""
             }
            },
            "type": "parcoords"
           }
          ],
          "pie": [
           {
            "automargin": true,
            "type": "pie"
           }
          ],
          "scatter": [
           {
            "fillpattern": {
             "fillmode": "overlay",
             "size": 10,
             "solidity": 0.2
            },
            "type": "scatter"
           }
          ],
          "scatter3d": [
           {
            "line": {
             "colorbar": {
              "outlinewidth": 0,
              "ticks": ""
             }
            },
            "marker": {
             "colorbar": {
              "outlinewidth": 0,
              "ticks": ""
             }
            },
            "type": "scatter3d"
           }
          ],
          "scattercarpet": [
           {
            "marker": {
             "colorbar": {
              "outlinewidth": 0,
              "ticks": ""
             }
            },
            "type": "scattercarpet"
           }
          ],
          "scattergeo": [
           {
            "marker": {
             "colorbar": {
              "outlinewidth": 0,
              "ticks": ""
             }
            },
            "type": "scattergeo"
           }
          ],
          "scattergl": [
           {
            "marker": {
             "colorbar": {
              "outlinewidth": 0,
              "ticks": ""
             }
            },
            "type": "scattergl"
           }
          ],
          "scattermap": [
           {
            "marker": {
             "colorbar": {
              "outlinewidth": 0,
              "ticks": ""
             }
            },
            "type": "scattermap"
           }
          ],
          "scattermapbox": [
           {
            "marker": {
             "colorbar": {
              "outlinewidth": 0,
              "ticks": ""
             }
            },
            "type": "scattermapbox"
           }
          ],
          "scatterpolar": [
           {
            "marker": {
             "colorbar": {
              "outlinewidth": 0,
              "ticks": ""
             }
            },
            "type": "scatterpolar"
           }
          ],
          "scatterpolargl": [
           {
            "marker": {
             "colorbar": {
              "outlinewidth": 0,
              "ticks": ""
             }
            },
            "type": "scatterpolargl"
           }
          ],
          "scatterternary": [
           {
            "marker": {
             "colorbar": {
              "outlinewidth": 0,
              "ticks": ""
             }
            },
            "type": "scatterternary"
           }
          ],
          "surface": [
           {
            "colorbar": {
             "outlinewidth": 0,
             "ticks": ""
            },
            "colorscale": [
             [
              0,
              "#0d0887"
             ],
             [
              0.1111111111111111,
              "#46039f"
             ],
             [
              0.2222222222222222,
              "#7201a8"
             ],
             [
              0.3333333333333333,
              "#9c179e"
             ],
             [
              0.4444444444444444,
              "#bd3786"
             ],
             [
              0.5555555555555556,
              "#d8576b"
             ],
             [
              0.6666666666666666,
              "#ed7953"
             ],
             [
              0.7777777777777778,
              "#fb9f3a"
             ],
             [
              0.8888888888888888,
              "#fdca26"
             ],
             [
              1,
              "#f0f921"
             ]
            ],
            "type": "surface"
           }
          ],
          "table": [
           {
            "cells": {
             "fill": {
              "color": "#EBF0F8"
             },
             "line": {
              "color": "white"
             }
            },
            "header": {
             "fill": {
              "color": "#C8D4E3"
             },
             "line": {
              "color": "white"
             }
            },
            "type": "table"
           }
          ]
         },
         "layout": {
          "annotationdefaults": {
           "arrowcolor": "#2a3f5f",
           "arrowhead": 0,
           "arrowwidth": 1
          },
          "autotypenumbers": "strict",
          "coloraxis": {
           "colorbar": {
            "outlinewidth": 0,
            "ticks": ""
           }
          },
          "colorscale": {
           "diverging": [
            [
             0,
             "#8e0152"
            ],
            [
             0.1,
             "#c51b7d"
            ],
            [
             0.2,
             "#de77ae"
            ],
            [
             0.3,
             "#f1b6da"
            ],
            [
             0.4,
             "#fde0ef"
            ],
            [
             0.5,
             "#f7f7f7"
            ],
            [
             0.6,
             "#e6f5d0"
            ],
            [
             0.7,
             "#b8e186"
            ],
            [
             0.8,
             "#7fbc41"
            ],
            [
             0.9,
             "#4d9221"
            ],
            [
             1,
             "#276419"
            ]
           ],
           "sequential": [
            [
             0,
             "#0d0887"
            ],
            [
             0.1111111111111111,
             "#46039f"
            ],
            [
             0.2222222222222222,
             "#7201a8"
            ],
            [
             0.3333333333333333,
             "#9c179e"
            ],
            [
             0.4444444444444444,
             "#bd3786"
            ],
            [
             0.5555555555555556,
             "#d8576b"
            ],
            [
             0.6666666666666666,
             "#ed7953"
            ],
            [
             0.7777777777777778,
             "#fb9f3a"
            ],
            [
             0.8888888888888888,
             "#fdca26"
            ],
            [
             1,
             "#f0f921"
            ]
           ],
           "sequentialminus": [
            [
             0,
             "#0d0887"
            ],
            [
             0.1111111111111111,
             "#46039f"
            ],
            [
             0.2222222222222222,
             "#7201a8"
            ],
            [
             0.3333333333333333,
             "#9c179e"
            ],
            [
             0.4444444444444444,
             "#bd3786"
            ],
            [
             0.5555555555555556,
             "#d8576b"
            ],
            [
             0.6666666666666666,
             "#ed7953"
            ],
            [
             0.7777777777777778,
             "#fb9f3a"
            ],
            [
             0.8888888888888888,
             "#fdca26"
            ],
            [
             1,
             "#f0f921"
            ]
           ]
          },
          "colorway": [
           "#636efa",
           "#EF553B",
           "#00cc96",
           "#ab63fa",
           "#FFA15A",
           "#19d3f3",
           "#FF6692",
           "#B6E880",
           "#FF97FF",
           "#FECB52"
          ],
          "font": {
           "color": "#2a3f5f"
          },
          "geo": {
           "bgcolor": "white",
           "lakecolor": "white",
           "landcolor": "#E5ECF6",
           "showlakes": true,
           "showland": true,
           "subunitcolor": "white"
          },
          "hoverlabel": {
           "align": "left"
          },
          "hovermode": "closest",
          "mapbox": {
           "style": "light"
          },
          "paper_bgcolor": "white",
          "plot_bgcolor": "#E5ECF6",
          "polar": {
           "angularaxis": {
            "gridcolor": "white",
            "linecolor": "white",
            "ticks": ""
           },
           "bgcolor": "#E5ECF6",
           "radialaxis": {
            "gridcolor": "white",
            "linecolor": "white",
            "ticks": ""
           }
          },
          "scene": {
           "xaxis": {
            "backgroundcolor": "#E5ECF6",
            "gridcolor": "white",
            "gridwidth": 2,
            "linecolor": "white",
            "showbackground": true,
            "ticks": "",
            "zerolinecolor": "white"
           },
           "yaxis": {
            "backgroundcolor": "#E5ECF6",
            "gridcolor": "white",
            "gridwidth": 2,
            "linecolor": "white",
            "showbackground": true,
            "ticks": "",
            "zerolinecolor": "white"
           },
           "zaxis": {
            "backgroundcolor": "#E5ECF6",
            "gridcolor": "white",
            "gridwidth": 2,
            "linecolor": "white",
            "showbackground": true,
            "ticks": "",
            "zerolinecolor": "white"
           }
          },
          "shapedefaults": {
           "line": {
            "color": "#2a3f5f"
           }
          },
          "ternary": {
           "aaxis": {
            "gridcolor": "white",
            "linecolor": "white",
            "ticks": ""
           },
           "baxis": {
            "gridcolor": "white",
            "linecolor": "white",
            "ticks": ""
           },
           "bgcolor": "#E5ECF6",
           "caxis": {
            "gridcolor": "white",
            "linecolor": "white",
            "ticks": ""
           }
          },
          "title": {
           "x": 0.05
          },
          "xaxis": {
           "automargin": true,
           "gridcolor": "white",
           "linecolor": "white",
           "ticks": "",
           "title": {
            "standoff": 15
           },
           "zerolinecolor": "white",
           "zerolinewidth": 2
          },
          "yaxis": {
           "automargin": true,
           "gridcolor": "white",
           "linecolor": "white",
           "ticks": "",
           "title": {
            "standoff": 15
           },
           "zerolinecolor": "white",
           "zerolinewidth": 2
          }
         }
        },
        "title": {
         "text": "Detailed Performance Metrics"
        },
        "width": 800
       }
      }
     },
     "metadata": {},
     "output_type": "display_data"
    },
    {
     "name": "stdout",
     "output_type": "stream",
     "text": [
      "Interactive plots created successfully!\n",
      "\n",
      "Detailed Metrics Summary:\n",
      "      Dataset  Accuracy  Precision  Recall  F1-Score  AUC-ROC  True Positives  \\\n",
      "0       Train    0.7605          0     0.0         0   0.6238               0   \n",
      "1  Validation    0.8025          0     0.0         0   0.4727               0   \n",
      "2        Test    0.8000          0     0.0         0   0.4669               0   \n",
      "\n",
      "   True Negatives  False Positives  False Negatives  \n",
      "0            1419                0              447  \n",
      "1             321                0               79  \n",
      "2             320                0               80  \n"
     ]
    }
   ],
   "source": [
    "from plotly.subplots import make_subplots\n",
    "from sklearn.metrics import roc_curve, auc\n",
    "\n",
    "# Create interactive plots for model evaluation\n",
    "import plotly.graph_objects as go\n",
    "import plotly.express as px\n",
    "\n",
    "# Combine all datasets for comprehensive analysis\n",
    "datasets = {\n",
    "    'Train': best_train_stats,\n",
    "    'Validation': best_val_stats, \n",
    "    'Test': best_test_stats\n",
    "}\n",
    "\n",
    "# 1. ROC Curve Plot\n",
    "fig_roc = go.Figure()\n",
    "\n",
    "for name, df in datasets.items():\n",
    "    fpr, tpr, _ = roc_curve(df['true_label'], df['probability'])\n",
    "    roc_auc = auc(fpr, tpr)\n",
    "    \n",
    "    fig_roc.add_trace(go.Scatter(\n",
    "        x=fpr, y=tpr,\n",
    "        mode='lines',\n",
    "        name=f'{name} (AUC = {roc_auc:.3f})',\n",
    "        line=dict(width=2)\n",
    "    ))\n",
    "\n",
    "# Add diagonal line\n",
    "fig_roc.add_trace(go.Scatter(\n",
    "    x=[0, 1], y=[0, 1],\n",
    "    mode='lines',\n",
    "    name='Random Classifier',\n",
    "    line=dict(dash='dash', color='gray')\n",
    "))\n",
    "\n",
    "fig_roc.update_layout(\n",
    "    title='ROC Curves for All Datasets',\n",
    "    xaxis_title='False Positive Rate',\n",
    "    yaxis_title='True Positive Rate',\n",
    "    width=600, height=500\n",
    ")\n",
    "\n",
    "fig_roc.show()\n",
    "\n",
    "# 2. Confusion Matrix Plots\n",
    "fig_cm = make_subplots(\n",
    "    rows=1, cols=3,\n",
    "    subplot_titles=['Train', 'Validation', 'Test'],\n",
    "    specs=[[{\"type\": \"xy\"}, {\"type\": \"xy\"}, {\"type\": \"xy\"}]]\n",
    ")\n",
    "\n",
    "for i, (name, df) in enumerate(datasets.items(), 1):\n",
    "    cm = confusion_matrix(df['true_label'], df['predicted_label'])\n",
    "    \n",
    "    fig_cm.add_trace(\n",
    "        go.Heatmap(\n",
    "            z=cm,\n",
    "            x=['Predicted 0', 'Predicted 1'],\n",
    "            y=['True 0', 'True 1'],\n",
    "            colorscale='Blues',\n",
    "            showscale=(i==1),\n",
    "            text=cm,\n",
    "            texttemplate=\"%{text}\",\n",
    "            textfont={\"size\": 14}\n",
    "        ),\n",
    "        row=1, col=i\n",
    "    )\n",
    "\n",
    "fig_cm.update_layout(\n",
    "    title='Confusion Matrices',\n",
    "    width=900, height=350\n",
    ")\n",
    "\n",
    "fig_cm.show()\n",
    "\n",
    "# 3. Probability Distribution Plots\n",
    "fig_dist = make_subplots(\n",
    "    rows=1, cols=3,\n",
    "    subplot_titles=['Train', 'Validation', 'Test']\n",
    ")\n",
    "\n",
    "for i, (name, df) in enumerate(datasets.items(), 1):\n",
    "    # Separate probabilities by true label\n",
    "    prob_0 = df[df['true_label'] == 0]['probability']\n",
    "    prob_1 = df[df['true_label'] == 1]['probability']\n",
    "    \n",
    "    fig_dist.add_trace(\n",
    "        go.Histogram(\n",
    "            x=prob_0,\n",
    "            name=f'{name} - True Label 0',\n",
    "            opacity=0.7,\n",
    "            nbinsx=30,\n",
    "            legendgroup=f'group{i}'\n",
    "        ),\n",
    "        row=1, col=i\n",
    "    )\n",
    "    \n",
    "    fig_dist.add_trace(\n",
    "        go.Histogram(\n",
    "            x=prob_1,\n",
    "            name=f'{name} - True Label 1',\n",
    "            opacity=0.7,\n",
    "            nbinsx=30,\n",
    "            legendgroup=f'group{i}'\n",
    "        ),\n",
    "        row=1, col=i\n",
    "    )\n",
    "\n",
    "fig_dist.update_layout(\n",
    "    title='Probability Distributions by True Label',\n",
    "    width=1200, height=400,\n",
    "    barmode='overlay'\n",
    ")\n",
    "\n",
    "fig_dist.update_xaxes(title_text=\"Predicted Probability\")\n",
    "fig_dist.update_yaxes(title_text=\"Count\")\n",
    "\n",
    "fig_dist.show()\n",
    "\n",
    "# 4. Performance Metrics Summary\n",
    "metrics_summary = []\n",
    "for name, df in datasets.items():\n",
    "    cm = confusion_matrix(df['true_label'], df['predicted_label'])\n",
    "    fpr, tpr, _ = roc_curve(df['true_label'], df['probability'])\n",
    "    roc_auc = auc(fpr, tpr)\n",
    "    \n",
    "    tn, fp, fn, tp = cm.ravel()\n",
    "    accuracy = (tp + tn) / (tp + tn + fp + fn)\n",
    "    precision = tp / (tp + fp) if (tp + fp) > 0 else 0\n",
    "    recall = tp / (tp + fn) if (tp + fn) > 0 else 0\n",
    "    f1 = 2 * (precision * recall) / (precision + recall) if (precision + recall) > 0 else 0\n",
    "    \n",
    "    metrics_summary.append({\n",
    "        'Dataset': name,\n",
    "        'Accuracy': accuracy,\n",
    "        'Precision': precision,\n",
    "        'Recall': recall,\n",
    "        'F1-Score': f1,\n",
    "        'AUC-ROC': roc_auc,\n",
    "        'True Positives': tp,\n",
    "        'True Negatives': tn,\n",
    "        'False Positives': fp,\n",
    "        'False Negatives': fn\n",
    "    })\n",
    "\n",
    "metrics_df_detailed = pd.DataFrame(metrics_summary)\n",
    "\n",
    "# Interactive metrics table\n",
    "fig_metrics = go.Figure(data=[go.Table(\n",
    "    header=dict(values=list(metrics_df_detailed.columns),\n",
    "                fill_color='paleturquoise',\n",
    "                align='left'),\n",
    "    cells=dict(values=[metrics_df_detailed[col] for col in metrics_df_detailed.columns],\n",
    "               fill_color='lavender',\n",
    "               align='left',\n",
    "               format=[None, '.4f', '.4f', '.4f', '.4f', '.4f', None, None, None, None]))\n",
    "])\n",
    "\n",
    "fig_metrics.update_layout(title=\"Detailed Performance Metrics\", width=800, height=300)\n",
    "fig_metrics.show()\n",
    "\n",
    "print(\"Interactive plots created successfully!\")\n",
    "print(\"\\nDetailed Metrics Summary:\")\n",
    "print(metrics_df_detailed.round(4))"
   ]
  },
  {
   "cell_type": "code",
   "execution_count": null,
   "metadata": {},
   "outputs": [],
   "source": [
    "best_pathways"
   ]
  },
  {
   "cell_type": "code",
   "execution_count": null,
   "metadata": {},
   "outputs": [],
   "source": [
    "# Extract pathway names and upsilon values from best_pathways\n",
    "pathway_upsilon_data = []\n",
    "\n",
    "for pathway_name, row in best_pathways.iterrows():\n",
    "    pathway_info = row['pathways']\n",
    "    upsilon_value = pathway_info['upsilon']\n",
    "    \n",
    "    pathway_upsilon_data.append({\n",
    "        'pathway_name': pathway_name,\n",
    "        'upsilon': upsilon_value\n",
    "    })\n",
    "\n",
    "# Create DataFrame and sort by upsilon values (descending)\n",
    "pathway_upsilon_df = pd.DataFrame(pathway_upsilon_data)\n",
    "pathway_upsilon_df_sorted = pathway_upsilon_df.sort_values('upsilon', ascending=False)\n",
    "\n",
    "print(\"Top 20 Pathways/Gene Programs by Upsilon Value:\")\n",
    "print(\"=\" * 80)\n",
    "print(pathway_upsilon_df_sorted.head(20).to_string(index=False))\n",
    "\n",
    "print(\"\\nBottom 20 Pathways/Gene Programs by Upsilon Value:\")\n",
    "print(\"=\" * 80)\n",
    "print(pathway_upsilon_df_sorted.tail(20).to_string(index=False))\n",
    "\n",
    "# Save the sorted list for later use\n",
    "pathways_sorted_by_upsilon = pathway_upsilon_df_sorted.to_dict('records')\n",
    "\n",
    "print(f\"\\nTotal pathways/gene programs: {len(pathways_sorted_by_upsilon)}\")\n",
    "print(f\"Upsilon range: {pathway_upsilon_df_sorted['upsilon'].min():.4f} to {pathway_upsilon_df_sorted['upsilon'].max():.4f}\")"
   ]
  },
  {
   "cell_type": "code",
   "execution_count": null,
   "metadata": {},
   "outputs": [],
   "source": [
    "from plotly.subplots import make_subplots\n",
    "\n",
    "# Create interactive plot for top and bottom pathways/gene programs by upsilon values\n",
    "import plotly.graph_objects as go\n",
    "\n",
    "# Get top 20 and bottom 20 pathways\n",
    "top_20 = pathway_upsilon_df_sorted.head(20)\n",
    "bottom_20 = pathway_upsilon_df_sorted.tail(20)\n",
    "\n",
    "# Create subplot with two bar charts\n",
    "fig = make_subplots(\n",
    "    rows=2, cols=1,\n",
    "    subplot_titles=('Top 20 Pathways/Gene Programs (Highest Upsilon)', \n",
    "                   'Bottom 20 Pathways/Gene Programs (Lowest Upsilon)'),\n",
    "    vertical_spacing=0.15\n",
    ")\n",
    "\n",
    "# Top 20 pathways (positive influence)\n",
    "fig.add_trace(\n",
    "    go.Bar(\n",
    "        x=top_20['upsilon'],\n",
    "        y=top_20['pathway_name'],\n",
    "        orientation='h',\n",
    "        name='Top 20',\n",
    "        marker=dict(color='darkgreen', opacity=0.8),\n",
    "        text=[f'{val:.3f}' for val in top_20['upsilon']],\n",
    "        textposition='outside',\n",
    "        hovertemplate='<b>%{y}</b><br>Upsilon: %{x:.4f}<extra></extra>'\n",
    "    ),\n",
    "    row=1, col=1\n",
    ")\n",
    "\n",
    "# Bottom 20 pathways (negative influence)  \n",
    "fig.add_trace(\n",
    "    go.Bar(\n",
    "        x=bottom_20['upsilon'],\n",
    "        y=bottom_20['pathway_name'],\n",
    "        orientation='h',\n",
    "        name='Bottom 20',\n",
    "        marker=dict(color='darkred', opacity=0.8),\n",
    "        text=[f'{val:.3f}' for val in bottom_20['upsilon']],\n",
    "        textposition='outside',\n",
    "        hovertemplate='<b>%{y}</b><br>Upsilon: %{x:.4f}<extra></extra>'\n",
    "    ),\n",
    "    row=2, col=1\n",
    ")\n",
    "\n",
    "# Update layout\n",
    "fig.update_layout(\n",
    "    title=dict(\n",
    "        text='Pathway/Gene Program Upsilon Values: Top 20 vs Bottom 20',\n",
    "        font=dict(size=16)\n",
    "    ),\n",
    "    height=1000,\n",
    "    width=1200,\n",
    "    showlegend=False,\n",
    "    font=dict(size=10)\n",
    ")\n",
    "\n",
    "# Update x-axes\n",
    "fig.update_xaxes(title_text=\"Upsilon Value\", row=1, col=1)\n",
    "fig.update_xaxes(title_text=\"Upsilon Value\", row=2, col=1)\n",
    "\n",
    "# Update y-axes to reverse order for better readability\n",
    "fig.update_yaxes(autorange=\"reversed\", row=1, col=1)\n",
    "fig.update_yaxes(autorange=\"reversed\", row=2, col=1)\n",
    "\n",
    "# Add vertical line at x=0 for reference\n",
    "fig.add_vline(x=0, line_dash=\"dash\", line_color=\"gray\", opacity=0.5, row=1, col=1)\n",
    "fig.add_vline(x=0, line_dash=\"dash\", line_color=\"gray\", opacity=0.5, row=2, col=1)\n",
    "\n",
    "fig.show()\n",
    "\n",
    "# Print summary statistics\n",
    "print(\"Summary Statistics:\")\n",
    "print(f\"Highest upsilon value: {top_20.iloc[0]['upsilon']:.4f} ({top_20.iloc[0]['pathway_name']})\")\n",
    "print(f\"Lowest upsilon value: {bottom_20.iloc[-1]['upsilon']:.4f} ({bottom_20.iloc[-1]['pathway_name']})\")\n",
    "print(f\"Range: {top_20.iloc[0]['upsilon'] - bottom_20.iloc[-1]['upsilon']:.4f}\")"
   ]
  },
  {
   "cell_type": "code",
   "execution_count": null,
   "metadata": {},
   "outputs": [],
   "source": [
    "# Calculate absolute values and sort by absolute upsilon values\n",
    "pathway_upsilon_df['abs_upsilon'] = pathway_upsilon_df['upsilon'].abs()\n",
    "pathway_upsilon_df_abs_sorted = pathway_upsilon_df.sort_values('abs_upsilon', ascending=False)\n",
    "\n",
    "# Function to create plots for different top N values\n",
    "def create_top_pathways_plot(n_top=50):\n",
    "    # Get top N pathways by absolute upsilon value\n",
    "    top_n = pathway_upsilon_df_abs_sorted.head(n_top)\n",
    "    \n",
    "    # Separate positive and negative upsilon values\n",
    "    positive_mask = top_n['upsilon'] > 0\n",
    "    negative_mask = top_n['upsilon'] < 0\n",
    "    \n",
    "    pos_count = positive_mask.sum()\n",
    "    neg_count = negative_mask.sum()\n",
    "    \n",
    "    # Create the plot\n",
    "    fig = go.Figure()\n",
    "    \n",
    "    # Add positive upsilon values (green)\n",
    "    if pos_count > 0:\n",
    "        fig.add_trace(\n",
    "            go.Bar(\n",
    "                x=top_n[positive_mask]['upsilon'],\n",
    "                y=top_n[positive_mask]['pathway_name'],\n",
    "                orientation='h',\n",
    "                name=f'Positive ({pos_count})',\n",
    "                marker=dict(color='darkgreen', opacity=0.8),\n",
    "                text=[f'{val:.3f}' for val in top_n[positive_mask]['upsilon']],\n",
    "                textposition='outside',\n",
    "                hovertemplate='<b>%{y}</b><br>Upsilon: %{x:.4f}<extra></extra>'\n",
    "            )\n",
    "        )\n",
    "    \n",
    "    # Add negative upsilon values (red)\n",
    "    if neg_count > 0:\n",
    "        fig.add_trace(\n",
    "            go.Bar(\n",
    "                x=top_n[negative_mask]['upsilon'],\n",
    "                y=top_n[negative_mask]['pathway_name'],\n",
    "                orientation='h',\n",
    "                name=f'Negative ({neg_count})',\n",
    "                marker=dict(color='darkred', opacity=0.8),\n",
    "                text=[f'{val:.3f}' for val in top_n[negative_mask]['upsilon']],\n",
    "                textposition='outside',\n",
    "                hovertemplate='<b>%{y}</b><br>Upsilon: %{x:.4f}<extra></extra>'\n",
    "            )\n",
    "        )\n",
    "    \n",
    "    # Update layout\n",
    "    fig.update_layout(\n",
    "        title=dict(\n",
    "            text=f'Top {n_top} Pathways/Gene Programs by Absolute Upsilon Value',\n",
    "            font=dict(size=16)\n",
    "        ),\n",
    "        height=max(600, n_top * 15),  # Adjust height based on number of pathways\n",
    "        width=1200,\n",
    "        xaxis_title=\"Upsilon Value\",\n",
    "        yaxis=dict(autorange=\"reversed\"),  # Top pathway at top\n",
    "        showlegend=True,\n",
    "        font=dict(size=10)\n",
    "    )\n",
    "    \n",
    "    # Add vertical line at x=0 for reference\n",
    "    fig.add_vline(x=0, line_dash=\"dash\", line_color=\"gray\", opacity=0.5)\n",
    "    \n",
    "    return fig\n",
    "\n",
    "# Create plots for top 20, 50, and 100 pathways\n",
    "fig_top_20 = create_top_pathways_plot(20)\n",
    "fig_top_50 = create_top_pathways_plot(50)\n",
    "fig_top_100 = create_top_pathways_plot(100)\n",
    "\n",
    "# Show the plots\n",
    "print(\"Top 20 Pathways by Absolute Upsilon Value:\")\n",
    "fig_top_20.show()\n",
    "\n",
    "print(\"\\nTop 50 Pathways by Absolute Upsilon Value:\")\n",
    "fig_top_50.show()\n",
    "\n",
    "print(\"\\nTop 100 Pathways by Absolute Upsilon Value:\")\n",
    "fig_top_100.show()\n",
    "\n",
    "# Print summary statistics\n",
    "print(f\"\\nSummary Statistics:\")\n",
    "print(f\"Total pathways: {len(pathway_upsilon_df_abs_sorted)}\")\n",
    "print(f\"Range of absolute upsilon values: {pathway_upsilon_df_abs_sorted['abs_upsilon'].min():.4f} to {pathway_upsilon_df_abs_sorted['abs_upsilon'].max():.4f}\")\n",
    "\n",
    "# Show top 20 table\n",
    "top_20 = pathway_upsilon_df_abs_sorted.head(20)\n",
    "print(f\"\\nTop 20 Pathways by Absolute Upsilon Value:\")\n",
    "print(\"=\" * 100)\n",
    "print(top_20[['pathway_name', 'upsilon', 'abs_upsilon']].to_string(index=False))"
   ]
  },
  {
   "cell_type": "code",
   "execution_count": null,
   "metadata": {},
   "outputs": [],
   "source": [
    "# Create distribution plot of upsilon values\n",
    "fig, axes = plt.subplots(2, 2, figsize=(15, 10))\n",
    "\n",
    "# 1. Histogram of all upsilon values\n",
    "axes[0, 0].hist(pathway_upsilon_df['upsilon'], bins=50, alpha=0.7, color='skyblue', edgecolor='black')\n",
    "axes[0, 0].set_title('Distribution of Upsilon Values')\n",
    "axes[0, 0].set_xlabel('Upsilon Value')\n",
    "axes[0, 0].set_ylabel('Frequency')\n",
    "axes[0, 0].axvline(x=0, color='red', linestyle='--', alpha=0.7, label='Zero line')\n",
    "axes[0, 0].legend()\n",
    "\n",
    "# 2. Histogram of absolute upsilon values\n",
    "axes[0, 1].hist(pathway_upsilon_df['abs_upsilon'], bins=50, alpha=0.7, color='lightgreen', edgecolor='black')\n",
    "axes[0, 1].set_title('Distribution of Absolute Upsilon Values')\n",
    "axes[0, 1].set_xlabel('Absolute Upsilon Value')\n",
    "axes[0, 1].set_ylabel('Frequency')\n",
    "\n",
    "# 3. Box plot showing distribution\n",
    "box_data = [pathway_upsilon_df['upsilon']]\n",
    "axes[1, 0].boxplot(box_data, labels=['Upsilon'])\n",
    "axes[1, 0].set_title('Box Plot of Upsilon Values')\n",
    "axes[1, 0].set_ylabel('Upsilon Value')\n",
    "axes[1, 0].axhline(y=0, color='red', linestyle='--', alpha=0.7)\n",
    "\n",
    "# 4. Separate histograms for positive and negative upsilon values\n",
    "positive_upsilon = pathway_upsilon_df[pathway_upsilon_df['upsilon'] > 0]['upsilon']\n",
    "negative_upsilon = pathway_upsilon_df[pathway_upsilon_df['upsilon'] < 0]['upsilon']\n",
    "\n",
    "axes[1, 1].hist(positive_upsilon, bins=30, alpha=0.7, color='green', label=f'Positive ({len(positive_upsilon)})', edgecolor='black')\n",
    "axes[1, 1].hist(negative_upsilon, bins=30, alpha=0.7, color='red', label=f'Negative ({len(negative_upsilon)})', edgecolor='black')\n",
    "axes[1, 1].set_title('Distribution by Sign')\n",
    "axes[1, 1].set_xlabel('Upsilon Value')\n",
    "axes[1, 1].set_ylabel('Frequency')\n",
    "axes[1, 1].legend()\n",
    "\n",
    "plt.tight_layout()\n",
    "plt.show()\n",
    "\n",
    "# Print summary statistics\n",
    "print(\"Summary Statistics for Upsilon Values:\")\n",
    "print(\"=\" * 50)\n",
    "print(f\"Total pathways: {len(pathway_upsilon_df)}\")\n",
    "print(f\"Mean: {pathway_upsilon_df['upsilon'].mean():.4f}\")\n",
    "print(f\"Median: {pathway_upsilon_df['upsilon'].median():.4f}\")\n",
    "print(f\"Standard deviation: {pathway_upsilon_df['upsilon'].std():.4f}\")\n",
    "print(f\"Minimum: {pathway_upsilon_df['upsilon'].min():.4f}\")\n",
    "print(f\"Maximum: {pathway_upsilon_df['upsilon'].max():.4f}\")\n",
    "print(f\"Range: {pathway_upsilon_df['upsilon'].max() - pathway_upsilon_df['upsilon'].min():.4f}\")\n",
    "print(f\"\\nPositive upsilon values: {len(positive_upsilon)} ({len(positive_upsilon)/len(pathway_upsilon_df)*100:.1f}%)\")\n",
    "print(f\"Negative upsilon values: {len(negative_upsilon)} ({len(negative_upsilon)/len(pathway_upsilon_df)*100:.1f}%)\")\n",
    "print(f\"Zero upsilon values: {len(pathway_upsilon_df[pathway_upsilon_df['upsilon'] == 0])}\")\n",
    "\n",
    "# Percentiles\n",
    "percentiles = [5, 10, 25, 50, 75, 90, 95]\n",
    "print(f\"\\nPercentiles:\")\n",
    "for p in percentiles:\n",
    "    value = np.percentile(pathway_upsilon_df['upsilon'], p)\n",
    "    print(f\"{p}th percentile: {value:.4f}\")"
   ]
  },
  {
   "cell_type": "code",
   "execution_count": null,
   "metadata": {},
   "outputs": [],
   "source": [
    "# Extract gene information and activity levels for top 20 pathways\n",
    "top_20_pathways = pathway_upsilon_df_abs_sorted.head(20)\n",
    "\n",
    "# Create a figure to show gene activity distributions for top 20 pathways\n",
    "fig, axes = plt.subplots(4, 5, figsize=(30, 20))  # Increased width from 25 to 30, height from 16 to 20\n",
    "axes = axes.flatten()\n",
    "\n",
    "# Store gene activity data for summary statistics\n",
    "all_gene_activities = []\n",
    "\n",
    "for idx, (pathway_idx, row) in enumerate(top_20_pathways.iterrows()):\n",
    "    pathway_name = row['pathway_name']\n",
    "    upsilon_val = row['upsilon']\n",
    "    \n",
    "    # Get pathway information from best_pathways dataframe\n",
    "    pathway_info = best_pathways.loc[pathway_name, 'pathways']\n",
    "    genes_data = pathway_info['genes']\n",
    "    \n",
    "    # Extract gene activities (assuming 'activity' or similar field exists in genes data)\n",
    "    gene_activities = []\n",
    "    gene_names = []\n",
    "    \n",
    "    for gene in genes_data:\n",
    "        if 'activity' in gene:\n",
    "            gene_activities.append(gene['activity'])\n",
    "            gene_names.append(gene.get('gene', 'Unknown'))\n",
    "        elif 'weight' in gene:\n",
    "            gene_activities.append(gene['weight'])\n",
    "            gene_names.append(gene.get('gene', 'Unknown'))\n",
    "        elif 'coefficient' in gene:\n",
    "            gene_activities.append(gene['coefficient'])\n",
    "            gene_names.append(gene.get('gene', 'Unknown'))\n",
    "    \n",
    "    # Store for summary\n",
    "    all_gene_activities.extend(gene_activities)\n",
    "    \n",
    "    # Calculate statistics for this pathway\n",
    "    gene_activities_array = np.array(gene_activities)\n",
    "    activity_min = gene_activities_array.min()\n",
    "    activity_max = gene_activities_array.max()\n",
    "    activity_mean = gene_activities_array.mean()\n",
    "    activity_std = gene_activities_array.std()\n",
    "    \n",
    "    # Plot histogram of gene activities for this pathway with linear scale\n",
    "    axes[idx].hist(gene_activities, bins=min(15, len(gene_activities)), alpha=0.7, \n",
    "                   color='green' if upsilon_val > 0 else 'red', \n",
    "                   edgecolor='black')\n",
    "    \n",
    "    # Truncate pathway name for display\n",
    "    display_name = pathway_name[:30] + '...' if len(pathway_name) > 30 else pathway_name\n",
    "    \n",
    "    # Create multi-line title with statistics\n",
    "    title_text = f'{display_name}\\nUpsilon: {upsilon_val:.3f} | Genes: {len(gene_activities)}\\nRange: [{activity_min:.3f}, {activity_max:.3f}]\\nMean: {activity_mean:.3f} ± {activity_std:.3f}'\n",
    "    \n",
    "    axes[idx].set_title(title_text, fontsize=14, pad=20)  # Increased from 10 to 14, pad from 15 to 20\n",
    "    axes[idx].set_xlabel('Gene Activity Level', fontsize=12)  # Increased from 9 to 12\n",
    "    axes[idx].set_ylabel('Count', fontsize=12)  # Increased from 9 to 12\n",
    "    axes[idx].tick_params(labelsize=10)  # Increased from 8 to 10\n",
    "    \n",
    "    # Add vertical line at zero for reference\n",
    "    axes[idx].axvline(x=0, color='black', linestyle='--', alpha=0.5)\n",
    "    \n",
    "    # Add vertical lines for mean and ±1 std\n",
    "    axes[idx].axvline(x=activity_mean, color='blue', linestyle='-', alpha=0.7, linewidth=1)\n",
    "    axes[idx].axvline(x=activity_mean + activity_std, color='blue', linestyle=':', alpha=0.5, linewidth=1)\n",
    "    axes[idx].axvline(x=activity_mean - activity_std, color='blue', linestyle=':', alpha=0.5, linewidth=1)\n",
    "    \n",
    "    # Set reasonable y-axis limits\n",
    "    axes[idx].set_ylim(bottom=0)\n",
    "\n",
    "plt.tight_layout()\n",
    "plt.suptitle('Gene Activity Distributions for Top 20 Pathways/Gene Programs by Absolute Upsilon Value\\n(Blue lines: mean ± std; Black dashed: zero)', \n",
    "             fontsize=20, y=1.02)  # Increased from 16 to 20\n",
    "plt.show()\n",
    "\n",
    "# Create a summary plot showing the range of gene activities across all top 20 pathways\n",
    "fig, (ax1, ax2) = plt.subplots(1, 2, figsize=(18, 8))  # Increased width from 15 to 18, height from 6 to 8\n",
    "\n",
    "# Plot 1: Overall distribution of all gene activities\n",
    "ax1.hist(all_gene_activities, bins=50, alpha=0.7, color='skyblue', edgecolor='black')\n",
    "ax1.set_title('Distribution of All Gene Activities\\nfrom Top 20 Pathways', fontsize=16)  # Added fontsize\n",
    "ax1.set_xlabel('Gene Activity Level', fontsize=14)  # Added fontsize\n",
    "ax1.set_ylabel('Count', fontsize=14)  # Added fontsize\n",
    "ax1.tick_params(labelsize=12)  # Added tick label size\n",
    "ax1.axvline(x=0, color='red', linestyle='--', alpha=0.7, label='Zero line')\n",
    "ax1.legend(fontsize=12)  # Added legend fontsize\n",
    "\n",
    "# Plot 2: Box plot showing activity ranges per pathway with enhanced labels\n",
    "pathway_activities = []\n",
    "pathway_labels = []\n",
    "\n",
    "for idx, (pathway_idx, row) in enumerate(top_20_pathways.iterrows()):\n",
    "    pathway_name = row['pathway_name']\n",
    "    pathway_info = best_pathways.loc[pathway_name, 'pathways']\n",
    "    genes_data = pathway_info['genes']\n",
    "    \n",
    "    gene_activities = []\n",
    "    for gene in genes_data:\n",
    "        if 'activity' in gene:\n",
    "            gene_activities.append(gene['activity'])\n",
    "        elif 'weight' in gene:\n",
    "            gene_activities.append(gene['weight'])\n",
    "        elif 'coefficient' in gene:\n",
    "            gene_activities.append(gene['coefficient'])\n",
    "    \n",
    "    if gene_activities:\n",
    "        pathway_activities.append(gene_activities)\n",
    "        # Create more informative labels with range info\n",
    "        gene_arr = np.array(gene_activities)\n",
    "        short_name = pathway_name[:15] + '...' if len(pathway_name) > 15 else pathway_name\n",
    "        range_text = f'[{gene_arr.min():.2f}, {gene_arr.max():.2f}]'\n",
    "        pathway_labels.append(f'{idx+1}. {short_name}\\nΥ={row[\"upsilon\"]:.3f}\\n{range_text}')\n",
    "\n",
    "bp = ax2.boxplot(pathway_activities, labels=range(1, len(pathway_activities)+1))\n",
    "ax2.set_title('Gene Activity Ranges by Pathway\\n(Numbers correspond to pathway order)', fontsize=16)  # Added fontsize\n",
    "ax2.set_xlabel('Pathway Index', fontsize=14)  # Added fontsize\n",
    "ax2.set_ylabel('Gene Activity Level', fontsize=14)  # Added fontsize\n",
    "ax2.tick_params(axis='x', rotation=0, labelsize=12)  # Added tick label size\n",
    "ax2.tick_params(axis='y', labelsize=12)  # Added tick label size\n",
    "ax2.grid(True, alpha=0.3)\n",
    "\n",
    "# Add a text box with pathway information\n",
    "info_text = \"\\n\".join(pathway_labels[:10])  # Show first 10 pathways\n",
    "ax2.text(1.02, 0.98, f\"Top 10 Pathways:\\n{info_text}\", transform=ax2.transAxes, \n",
    "         fontsize=9, verticalalignment='top', bbox=dict(boxstyle=\"round,pad=0.3\", facecolor=\"lightblue\", alpha=0.7))  # Increased from 6 to 9\n",
    "\n",
    "plt.tight_layout()\n",
    "plt.show()\n",
    "\n",
    "# Print summary statistics\n",
    "print(\"Summary Statistics for Gene Activities in Top 20 Pathways:\")\n",
    "print(\"=\" * 70)\n",
    "\n",
    "for idx, (pathway_idx, row) in enumerate(top_20_pathways.iterrows()):\n",
    "    pathway_name = row['pathway_name']\n",
    "    upsilon_val = row['upsilon']\n",
    "    \n",
    "    pathway_info = best_pathways.loc[pathway_name, 'pathways']\n",
    "    genes_data = pathway_info['genes']\n",
    "    \n",
    "    gene_activities = []\n",
    "    for gene in genes_data:\n",
    "        if 'activity' in gene:\n",
    "            gene_activities.append(gene['activity'])\n",
    "        elif 'weight' in gene:\n",
    "            gene_activities.append(gene['weight'])\n",
    "        elif 'coefficient' in gene:\n",
    "            gene_activities.append(gene['coefficient'])\n",
    "    \n",
    "    if gene_activities:\n",
    "        gene_activities = np.array(gene_activities)\n",
    "        print(f\"\\n{idx+1}. {pathway_name[:60]}...\")\n",
    "        print(f\"   Upsilon: {upsilon_val:.4f}\")\n",
    "        print(f\"   Number of genes: {len(gene_activities)}\")\n",
    "        print(f\"   Activity range: {gene_activities.min():.4f} to {gene_activities.max():.4f}\")\n",
    "        print(f\"   Mean activity: {gene_activities.mean():.4f}\")\n",
    "        print(f\"   Std activity: {gene_activities.std():.4f}\")\n",
    "        print(f\"   Positive activities: {(gene_activities > 0).sum()} ({(gene_activities > 0).mean()*100:.1f}%)\")\n",
    "        print(f\"   Negative activities: {(gene_activities < 0).sum()} ({(gene_activities < 0).mean()*100:.1f}%)\")\n",
    "\n",
    "# Overall statistics\n",
    "all_activities = np.array(all_gene_activities)\n",
    "print(f\"\\nOverall Statistics for All Gene Activities:\")\n",
    "print(f\"Total genes across top 20 pathways: {len(all_activities)}\")\n",
    "print(f\"Overall range: {all_activities.min():.6f} to {all_activities.max():.6f}\")\n",
    "print(f\"Overall mean: {all_activities.mean():.6f}\")\n",
    "print(f\"Overall median: {np.median(all_activities):.6f}\")\n",
    "print(f\"Overall std: {all_activities.std():.6f}\")"
   ]
  },
  {
   "cell_type": "code",
   "execution_count": null,
   "metadata": {},
   "outputs": [],
   "source": [
    "# Get all gene activity data from all pathways/gene programs\n",
    "all_gene_data = []\n",
    "pathway_gene_counts = []\n",
    "\n",
    "for pathway_idx, pathway_row in best_pathways.iterrows():\n",
    "    pathway_name = pathway_idx\n",
    "    pathway_info = pathway_row['pathways']\n",
    "    genes_data = pathway_info['genes']\n",
    "    \n",
    "    # Extract gene activities for this pathway\n",
    "    pathway_activities = []\n",
    "    for gene in genes_data:\n",
    "        if 'activity' in gene:\n",
    "            activity = gene['activity']\n",
    "            all_gene_data.append({\n",
    "                'pathway': pathway_name,\n",
    "                'gene': gene.get('gene', 'Unknown'),\n",
    "                'activity': activity\n",
    "            })\n",
    "            pathway_activities.append(activity)\n",
    "        elif 'weight' in gene:\n",
    "            activity = gene['weight']\n",
    "            all_gene_data.append({\n",
    "                'pathway': pathway_name,\n",
    "                'gene': gene.get('gene', 'Unknown'),\n",
    "                'activity': activity\n",
    "            })\n",
    "            pathway_activities.append(activity)\n",
    "        elif 'coefficient' in gene:\n",
    "            activity = gene['coefficient']\n",
    "            all_gene_data.append({\n",
    "                'pathway': pathway_name,\n",
    "                'gene': gene.get('gene', 'Unknown'),\n",
    "                'activity': activity\n",
    "            })\n",
    "            pathway_activities.append(activity)\n",
    "    \n",
    "    # Store pathway-level statistics\n",
    "    if pathway_activities:\n",
    "        pathway_gene_counts.append({\n",
    "            'pathway': pathway_name,\n",
    "            'gene_count': len(pathway_activities),\n",
    "            'mean_activity': np.mean(pathway_activities),\n",
    "            'std_activity': np.std(pathway_activities),\n",
    "            'min_activity': np.min(pathway_activities),\n",
    "            'max_activity': np.max(pathway_activities)\n",
    "        })\n",
    "\n",
    "# Convert to DataFrames\n",
    "all_genes_df = pd.DataFrame(all_gene_data)\n",
    "pathway_stats_df = pd.DataFrame(pathway_gene_counts)\n",
    "\n",
    "# Create comprehensive visualization of gene activity distributions\n",
    "fig, axes = plt.subplots(2, 3, figsize=(20, 12))\n",
    "\n",
    "# 1. Overall distribution of all gene activities\n",
    "axes[0, 0].hist(all_genes_df['activity'], bins=100, alpha=0.7, color='skyblue', edgecolor='black')\n",
    "axes[0, 0].set_title('Distribution of All Gene Activities\\nAcross All Pathways/Gene Programs', fontsize=14)\n",
    "axes[0, 0].set_xlabel('Gene Activity Level', fontsize=12)\n",
    "axes[0, 0].set_ylabel('Frequency', fontsize=12)\n",
    "axes[0, 0].axvline(x=0, color='red', linestyle='--', alpha=0.7, label='Zero line')\n",
    "axes[0, 0].legend()\n",
    "\n",
    "# 2. Log-scale histogram for better visibility of distribution tails\n",
    "positive_activities = all_genes_df[all_genes_df['activity'] > 0]['activity']\n",
    "negative_activities = all_genes_df[all_genes_df['activity'] < 0]['activity']\n",
    "zero_activities = all_genes_df[all_genes_df['activity'] == 0]['activity']\n",
    "\n",
    "axes[0, 1].hist(positive_activities, bins=50, alpha=0.7, color='green', label=f'Positive ({len(positive_activities)})', edgecolor='black')\n",
    "axes[0, 1].hist(negative_activities, bins=50, alpha=0.7, color='red', label=f'Negative ({len(negative_activities)})', edgecolor='black')\n",
    "axes[0, 1].set_title('Distribution by Sign', fontsize=14)\n",
    "axes[0, 1].set_xlabel('Gene Activity Level', fontsize=12)\n",
    "axes[0, 1].set_ylabel('Frequency', fontsize=12)\n",
    "axes[0, 1].legend()\n",
    "\n",
    "# 3. Box plot of gene activities by activity range bins\n",
    "activity_ranges = pd.cut(all_genes_df['activity'], bins=20, labels=False)\n",
    "unique_ranges = sorted(activity_ranges.dropna().unique())\n",
    "boxplot_data = [all_genes_df[activity_ranges == r]['activity'].values for r in unique_ranges if len(all_genes_df[activity_ranges == r]) > 0]\n",
    "\n",
    "if boxplot_data:\n",
    "    bp = axes[0, 2].boxplot(boxplot_data, patch_artist=True)\n",
    "    axes[0, 2].set_title('Gene Activity Distribution by Bins', fontsize=14)\n",
    "    axes[0, 2].set_xlabel('Activity Range Bins', fontsize=12)\n",
    "    axes[0, 2].set_ylabel('Gene Activity Level', fontsize=12)\n",
    "    axes[0, 2].tick_params(axis='x', rotation=45)\n",
    "\n",
    "# 4. Distribution of pathway-level statistics\n",
    "axes[1, 0].scatter(pathway_stats_df['gene_count'], pathway_stats_df['mean_activity'], \n",
    "                   alpha=0.6, s=50, c=pathway_stats_df['std_activity'], cmap='viridis')\n",
    "axes[1, 0].set_title('Mean Activity vs Gene Count per Pathway\\n(Color = Std Activity)', fontsize=14)\n",
    "axes[1, 0].set_xlabel('Number of Genes in Pathway', fontsize=12)\n",
    "axes[1, 0].set_ylabel('Mean Gene Activity', fontsize=12)\n",
    "cbar = plt.colorbar(axes[1, 0].collections[0], ax=axes[1, 0])\n",
    "cbar.set_label('Std Activity', fontsize=10)\n",
    "\n",
    "# 5. Violin plot of activities for pathways with different gene counts\n",
    "gene_count_bins = pd.cut(pathway_stats_df['gene_count'], bins=5, labels=['Very Small', 'Small', 'Medium', 'Large', 'Very Large'])\n",
    "violin_data = []\n",
    "labels = []\n",
    "for bin_label in gene_count_bins.cat.categories:\n",
    "    pathways_in_bin = pathway_stats_df[gene_count_bins == bin_label]['pathway']\n",
    "    activities_in_bin = all_genes_df[all_genes_df['pathway'].isin(pathways_in_bin)]['activity']\n",
    "    if len(activities_in_bin) > 0:\n",
    "        violin_data.append(activities_in_bin.values)\n",
    "        labels.append(f'{bin_label}\\n(n={len(pathways_in_bin)})')\n",
    "\n",
    "if violin_data:\n",
    "    parts = axes[1, 1].violinplot(violin_data, positions=range(len(violin_data)), showmeans=True, showmedians=True)\n",
    "    axes[1, 1].set_xticks(range(len(labels)))\n",
    "    axes[1, 1].set_xticklabels(labels, rotation=45)\n",
    "    axes[1, 1].set_title('Gene Activity Distribution by\\nPathway Size Category', fontsize=14)\n",
    "    axes[1, 1].set_ylabel('Gene Activity Level', fontsize=12)\n",
    "\n",
    "# 6. Cumulative distribution function\n",
    "sorted_activities = np.sort(all_genes_df['activity'])\n",
    "cumulative_prob = np.arange(1, len(sorted_activities) + 1) / len(sorted_activities)\n",
    "axes[1, 2].plot(sorted_activities, cumulative_prob, linewidth=2, color='purple')\n",
    "axes[1, 2].set_title('Cumulative Distribution Function\\nof Gene Activities', fontsize=14)\n",
    "axes[1, 2].set_xlabel('Gene Activity Level', fontsize=12)\n",
    "axes[1, 2].set_ylabel('Cumulative Probability', fontsize=12)\n",
    "axes[1, 2].grid(True, alpha=0.3)\n",
    "axes[1, 2].axvline(x=0, color='red', linestyle='--', alpha=0.7)\n",
    "\n",
    "plt.tight_layout()\n",
    "plt.show()\n",
    "\n",
    "# Print comprehensive summary statistics\n",
    "print(\"=== COMPREHENSIVE GENE ACTIVITY ANALYSIS ===\")\n",
    "print(f\"Total number of genes across all pathways: {len(all_genes_df):,}\")\n",
    "print(f\"Total number of pathways/gene programs: {len(pathway_stats_df):,}\")\n",
    "print()\n",
    "\n",
    "print(\"Overall Gene Activity Statistics:\")\n",
    "print(\"-\" * 40)\n",
    "activities = all_genes_df['activity'].values\n",
    "print(f\"Mean: {np.mean(activities):.6f}\")\n",
    "print(f\"Median: {np.median(activities):.6f}\")\n",
    "print(f\"Standard deviation: {np.std(activities):.6f}\")\n",
    "print(f\"Minimum: {np.min(activities):.6f}\")\n",
    "print(f\"Maximum: {np.max(activities):.6f}\")\n",
    "print(f\"Range: {np.max(activities) - np.min(activities):.6f}\")\n",
    "print()\n",
    "\n",
    "print(\"Activity Distribution by Sign:\")\n",
    "print(\"-\" * 30)\n",
    "print(f\"Positive activities: {len(positive_activities):,} ({len(positive_activities)/len(activities)*100:.1f}%)\")\n",
    "print(f\"Negative activities: {len(negative_activities):,} ({len(negative_activities)/len(activities)*100:.1f}%)\")\n",
    "print(f\"Zero activities: {len(zero_activities):,} ({len(zero_activities)/len(activities)*100:.1f}%)\")\n",
    "print()\n",
    "\n",
    "print(\"Percentiles:\")\n",
    "print(\"-\" * 15)\n",
    "percentiles = [1, 5, 10, 25, 50, 75, 90, 95, 99]\n",
    "for p in percentiles:\n",
    "    value = np.percentile(activities, p)\n",
    "    print(f\"{p:2d}th percentile: {value:.6f}\")\n",
    "print()\n",
    "\n",
    "print(\"Pathway-Level Statistics:\")\n",
    "print(\"-\" * 25)\n",
    "print(f\"Average genes per pathway: {pathway_stats_df['gene_count'].mean():.1f}\")\n",
    "print(f\"Median genes per pathway: {pathway_stats_df['gene_count'].median():.1f}\")\n",
    "print(f\"Min genes per pathway: {pathway_stats_df['gene_count'].min()}\")\n",
    "print(f\"Max genes per pathway: {pathway_stats_df['gene_count'].max()}\")\n",
    "print()\n",
    "\n",
    "print(\"Extreme Values:\")\n",
    "print(\"-\" * 15)\n",
    "# Top 10 highest and lowest activities\n",
    "sorted_genes = all_genes_df.sort_values('activity', ascending=False)\n",
    "print(\"Top 10 Highest Gene Activities:\")\n",
    "for i, (_, row) in enumerate(sorted_genes.head(10).iterrows(), 1):\n",
    "    print(f\"{i:2d}. {row['gene'][:30]:30} | {row['activity']:.6f} | {row['pathway'][:40]}\")\n",
    "\n",
    "print(\"\\nTop 10 Lowest Gene Activities:\")\n",
    "for i, (_, row) in enumerate(sorted_genes.tail(10).iterrows(), 1):\n",
    "    print(f\"{i:2d}. {row['gene'][:30]:30} | {row['activity']:.6f} | {row['pathway'][:40]}\")"
   ]
  },
  {
   "cell_type": "code",
   "execution_count": null,
   "metadata": {},
   "outputs": [],
   "source": [
    "import mygene\n",
    "\n",
    "# Initialize mygene query\n",
    "mg = mygene.MyGeneInfo()\n",
    "\n",
    "# Get top 10 highest and lowest activity genes\n",
    "top_10_highest = sorted_genes.head(10)\n",
    "top_10_lowest = sorted_genes.tail(10)\n",
    "\n",
    "def get_gene_symbols(gene_ids):\n",
    "    \"\"\"Convert Ensembl IDs to gene symbols using mygene\"\"\"\n",
    "    # Query mygene for gene symbols\n",
    "    results = mg.querymany(gene_ids, scopes='ensembl.gene', fields='symbol', species='mouse')\n",
    "    \n",
    "    # Create a mapping dictionary\n",
    "    id_to_symbol = {}\n",
    "    for result in results:\n",
    "        if 'symbol' in result:\n",
    "            id_to_symbol[result['query']] = result['symbol']\n",
    "        else:\n",
    "            id_to_symbol[result['query']] = result['query']  # Keep original if no symbol found\n",
    "    \n",
    "    return id_to_symbol\n",
    "\n",
    "# Get gene symbols for highest activity genes\n",
    "highest_gene_ids = top_10_highest['gene'].tolist()\n",
    "highest_symbols = get_gene_symbols(highest_gene_ids)\n",
    "\n",
    "# Get gene symbols for lowest activity genes  \n",
    "lowest_gene_ids = top_10_lowest['gene'].tolist()\n",
    "lowest_symbols = get_gene_symbols(lowest_gene_ids)\n",
    "\n",
    "print(\"=\" * 100)\n",
    "print(\"TOP 10 HIGHEST ACTIVITY GENES\")\n",
    "print(\"=\" * 100)\n",
    "print(f\"{'Rank':<4} {'Ensembl ID':<20} {'Gene Symbol':<15} {'Activity':<12} {'Pathway':<50}\")\n",
    "print(\"-\" * 100)\n",
    "\n",
    "for i, (_, row) in enumerate(top_10_highest.iterrows(), 1):\n",
    "    ensembl_id = row['gene']\n",
    "    symbol = highest_symbols.get(ensembl_id, 'Unknown')\n",
    "    activity = row['activity']\n",
    "    pathway = row['pathway'][:47] + '...' if len(row['pathway']) > 50 else row['pathway']\n",
    "    \n",
    "    print(f\"{i:<4} {ensembl_id:<20} {symbol:<15} {activity:<12.6f} {pathway:<50}\")\n",
    "\n",
    "print(\"\\n\" + \"=\" * 100)\n",
    "print(\"TOP 10 LOWEST ACTIVITY GENES\")\n",
    "print(\"=\" * 100)\n",
    "print(f\"{'Rank':<4} {'Ensembl ID':<20} {'Gene Symbol':<15} {'Activity':<12} {'Pathway':<50}\")\n",
    "print(\"-\" * 100)\n",
    "\n",
    "for i, (_, row) in enumerate(top_10_lowest.iterrows(), 1):\n",
    "    ensembl_id = row['gene']\n",
    "    symbol = lowest_symbols.get(ensembl_id, 'Unknown')\n",
    "    activity = row['activity']\n",
    "    pathway = row['pathway'][:47] + '...' if len(row['pathway']) > 50 else row['pathway']\n",
    "    \n",
    "    print(f\"{i:<4} {ensembl_id:<20} {symbol:<15} {activity:<12.6f} {pathway:<50}\")\n",
    "\n",
    "# Additional summary\n",
    "print(f\"\\n\" + \"=\" * 80)\n",
    "print(\"SUMMARY\")\n",
    "print(\"=\" * 80)\n",
    "print(f\"Highest activity gene: {highest_symbols.get(top_10_highest.iloc[0]['gene'], 'Unknown')} ({top_10_highest.iloc[0]['gene']})\")\n",
    "print(f\"  Activity: {top_10_highest.iloc[0]['activity']:.6f}\")\n",
    "print(f\"  Pathway: {top_10_highest.iloc[0]['pathway']}\")\n",
    "\n",
    "print(f\"\\nLowest activity gene: {lowest_symbols.get(top_10_lowest.iloc[-1]['gene'], 'Unknown')} ({top_10_lowest.iloc[-1]['gene']})\")\n",
    "print(f\"  Activity: {top_10_lowest.iloc[-1]['activity']:.6f}\")\n",
    "print(f\"  Pathway: {top_10_lowest.iloc[-1]['pathway']}\")\n",
    "\n",
    "print(f\"\\nActivity range: {top_10_lowest.iloc[-1]['activity']:.6f} to {top_10_highest.iloc[0]['activity']:.6f}\")\n",
    "print(f\"Fold difference: {top_10_highest.iloc[0]['activity'] / top_10_lowest.iloc[-1]['activity']:.1f}x\")"
   ]
  }
 ],
 "metadata": {
  "kernelspec": {
   "display_name": "bray_cpu",
   "language": "python",
   "name": "python3"
  },
  "language_info": {
   "codemirror_mode": {
    "name": "ipython",
    "version": 3
   },
   "file_extension": ".py",
   "mimetype": "text/x-python",
   "name": "python",
   "nbconvert_exporter": "python",
   "pygments_lexer": "ipython3",
   "version": "3.11.12"
  }
 },
 "nbformat": 4,
 "nbformat_minor": 2
}

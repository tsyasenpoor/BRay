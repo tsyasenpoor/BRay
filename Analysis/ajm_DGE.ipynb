{
 "cells": [
  {
   "cell_type": "code",
   "execution_count": 1,
   "metadata": {},
   "outputs": [],
   "source": [
    "import os\n",
    "import numpy  as np\n",
    "import pandas as pd\n",
    "from scipy.stats     import ranksums\n",
    "from statsmodels.stats.multitest import multipletests\n",
    "import matplotlib.pyplot as plt\n",
    "\n",
    "import scanpy as sc\n",
    "import pyreadr"
   ]
  },
  {
   "cell_type": "code",
   "execution_count": 17,
   "metadata": {},
   "outputs": [],
   "source": [
    "ajm_file_path_raw = \"/labs/Aguiar/SSPA_BRAY/BRay/BRAY_AJM2/2_Data/2_SingleCellData/2_AJM_Parse_Timecourse/GEX_TC_LPSonly_Bcellonly_filt_raw_2024-02-05.rds\"\n",
    "ajm_file_path_norm = \"/labs/Aguiar/SSPA_BRAY/BRay/BRAY_AJM2/2_Data/2_SingleCellData/2_AJM_Parse_Timecourse/GEX_TC_LPSonly_Bcellonly_filt_norm_2024-02-09.rds\"\n",
    "ajm_metadata_path = \"/labs/Aguiar/SSPA_BRAY/BRay/BRAY_AJM2/2_Data/2_SingleCellData/2_AJM_Parse_Timecourse/meta_TC_LPSonly_Bcellonly_filt_raw_2024-02-05.csv\"\n",
    "r_script_path = \"/labs/Aguiar/SSPA_BRAY/BRay/VariationalInference/rds_to_anndata.R\"\n"
   ]
  },
  {
   "cell_type": "code",
   "execution_count": 18,
   "metadata": {},
   "outputs": [],
   "source": [
    "import subprocess\n",
    "import scipy.sparse as sp"
   ]
  },
  {
   "cell_type": "code",
   "execution_count": 19,
   "metadata": {},
   "outputs": [
    {
     "name": "stdout",
     "output_type": "stream",
     "text": [
      "R conversion output:\n",
      "\n"
     ]
    }
   ],
   "source": [
    "result = subprocess.run([\"Rscript\", r_script_path], \n",
    "                        capture_output=True, \n",
    "                        text=True, \n",
    "                        check=True)\n",
    "print(\"R conversion output:\")\n",
    "print(result.stdout)"
   ]
  },
  {
   "cell_type": "code",
   "execution_count": 20,
   "metadata": {},
   "outputs": [
    {
     "name": "stdout",
     "output_type": "stream",
     "text": [
      "Raw matrix dimensions from file: 57010 x 4036\n",
      "Normalized matrix dimensions from file: 57010 x 4036\n"
     ]
    }
   ],
   "source": [
    "raw_sparse_data = pd.read_csv(\"raw_matrix_sparse.csv\")\n",
    "\n",
    "raw_row_names = pd.read_csv(\"raw_matrix_rownames.csv\")[\"row_names\"].tolist()  \n",
    "raw_col_names = pd.read_csv(\"raw_matrix_colnames.csv\")[\"col_names\"].tolist()  \n",
    "\n",
    "raw_matrix_dims = None\n",
    "\n",
    "raw_matrix_dims = pd.read_csv(\"raw_matrix_dims.csv\")\n",
    "raw_nrows = raw_matrix_dims[\"rows\"].iloc[0]\n",
    "raw_ncols = raw_matrix_dims[\"cols\"].iloc[0]\n",
    "print(f\"Raw matrix dimensions from file: {raw_nrows} x {raw_ncols}\")\n",
    "if raw_nrows != len(raw_row_names) or raw_ncols != len(raw_col_names):\n",
    "    print(f\"WARNING: Dimension mismatch! Row names: {len(raw_row_names)}, Column names: {len(raw_col_names)}\")\n",
    "\n",
    "norm_sparse_data = pd.read_csv(\"norm_matrix_sparse.csv\")\n",
    "\n",
    "norm_row_names = pd.read_csv(\"norm_matrix_rownames.csv\")[\"row_names\"].tolist()  \n",
    "norm_col_names = pd.read_csv(\"norm_matrix_colnames.csv\")[\"col_names\"].tolist()  \n",
    "\n",
    "norm_matrix_dims = None\n",
    "norm_matrix_dims = pd.read_csv(\"norm_matrix_dims.csv\")\n",
    "norm_nrows = norm_matrix_dims[\"rows\"].iloc[0]\n",
    "norm_ncols = norm_matrix_dims[\"cols\"].iloc[0]\n",
    "print(f\"Normalized matrix dimensions from file: {norm_nrows} x {norm_ncols}\")\n",
    "if norm_nrows != len(norm_row_names) or norm_ncols != len(norm_col_names):\n",
    "    print(f\"WARNING: Dimension mismatch! Row names: {len(norm_row_names)}, Column names: {len(norm_col_names)}\")\n"
   ]
  },
  {
   "cell_type": "code",
   "execution_count": 21,
   "metadata": {},
   "outputs": [
    {
     "name": "stdout",
     "output_type": "stream",
     "text": [
      "Row indices range: 0 to 57003\n",
      "Column indices range: 0 to 4035\n",
      "Creating sparse matrix with shape: (57010, 4036) and transposing to match AnnData format\n",
      "Transposed matrix shape: (4036, 57010)\n",
      "Row indices range: 0 to 57003\n",
      "Column indices range: 0 to 4035\n",
      "Creating sparse matrix with shape: (57010, 4036) and transposing to match AnnData format\n",
      "Transposed matrix shape: (4036, 57010)\n"
     ]
    }
   ],
   "source": [
    "raw_row_indices = raw_sparse_data[\"row\"].values  \n",
    "raw_col_indices = raw_sparse_data[\"col\"].values  \n",
    "raw_values = raw_sparse_data[\"value\"].values\n",
    "\n",
    "print(f\"Row indices range: {raw_row_indices.min()} to {raw_row_indices.max()}\")\n",
    "print(f\"Column indices range: {raw_col_indices.min()} to {raw_col_indices.max()}\")\n",
    "\n",
    "\n",
    "print(f\"Creating sparse matrix with shape: ({raw_nrows}, {raw_ncols}) and transposing to match AnnData format\")\n",
    "\n",
    "raw_sparse_matrix = sp.coo_matrix((raw_values, (raw_row_indices, raw_col_indices)), \n",
    "                                shape=(raw_nrows, raw_ncols))\n",
    "\n",
    "raw_sparse_matrix = raw_sparse_matrix.transpose().tocsr()\n",
    "\n",
    "print(f\"Transposed matrix shape: {raw_sparse_matrix.shape}\")\n",
    "\n",
    "norm_row_indices = norm_sparse_data[\"row\"].values  \n",
    "norm_col_indices = norm_sparse_data[\"col\"].values  \n",
    "norm_values = norm_sparse_data[\"value\"].values\n",
    "\n",
    "print(f\"Row indices range: {norm_row_indices.min()} to {norm_row_indices.max()}\")\n",
    "print(f\"Column indices range: {norm_col_indices.min()} to {norm_col_indices.max()}\")\n",
    "\n",
    "print(f\"Creating sparse matrix with shape: ({norm_nrows}, {norm_ncols}) and transposing to match AnnData format\")\n",
    "\n",
    "norm_sparse_matrix = sp.coo_matrix((norm_values, (norm_row_indices, norm_col_indices)), \n",
    "                                shape=(norm_nrows, norm_ncols))\n",
    "\n",
    "norm_sparse_matrix = norm_sparse_matrix.transpose().tocsr()\n",
    "\n",
    "print(f\"Transposed matrix shape: {norm_sparse_matrix.shape}\")"
   ]
  },
  {
   "cell_type": "code",
   "execution_count": 23,
   "metadata": {},
   "outputs": [],
   "source": [
    "import anndata as ad"
   ]
  },
  {
   "cell_type": "code",
   "execution_count": 24,
   "metadata": {},
   "outputs": [],
   "source": [
    "raw_ajm_adata = ad.AnnData(X=raw_sparse_matrix)\n",
    "norm_ajm_adata = ad.AnnData(X=norm_sparse_matrix)\n",
    "\n",
    "raw_ajm_adata.var_names = raw_row_names\n",
    "raw_ajm_adata.obs_names = raw_col_names\n",
    "\n",
    "norm_ajm_adata.var_names = norm_row_names\n",
    "norm_ajm_adata.obs_names = norm_col_names\n",
    "\n",
    "raw_ajm_adata.obs_names_make_unique()\n",
    "raw_ajm_adata.var_names_make_unique()\n",
    "\n",
    "norm_ajm_adata.obs_names_make_unique()\n",
    "norm_ajm_adata.var_names_make_unique()"
   ]
  },
  {
   "cell_type": "code",
   "execution_count": 25,
   "metadata": {},
   "outputs": [],
   "source": [
    "ajm_raw_mat = raw_ajm_adata.X\n",
    "ajm_norm_mat = norm_ajm_adata.X\n",
    "raw_genes = raw_ajm_adata.var_names\n",
    "raw_cells = raw_ajm_adata.obs_names\n",
    "norm_genes = norm_ajm_adata.var_names\n",
    "norm_cells = norm_ajm_adata.obs_names"
   ]
  }
 ],
 "metadata": {
  "kernelspec": {
   "display_name": "bray_cpu",
   "language": "python",
   "name": "python3"
  },
  "language_info": {
   "codemirror_mode": {
    "name": "ipython",
    "version": 3
   },
   "file_extension": ".py",
   "mimetype": "text/x-python",
   "name": "python",
   "nbconvert_exporter": "python",
   "pygments_lexer": "ipython3",
   "version": "3.11.12"
  }
 },
 "nbformat": 4,
 "nbformat_minor": 2
}
